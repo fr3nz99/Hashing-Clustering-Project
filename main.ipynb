{
 "cells": [
  {
   "cell_type": "markdown",
   "id": "d79a784d-45b4-4580-870e-a761bd8564aa",
   "metadata": {},
   "source": [
    "# Homework 4 - Outputs file"
   ]
  },
  {
   "cell_type": "markdown",
   "id": "60ed5cd9-e4d3-4c1c-942b-a37795069b64",
   "metadata": {},
   "source": [
    "## 1. Implementing your own Shazam"
   ]
  },
  {
   "cell_type": "markdown",
   "id": "763a3516-0904-41f0-b8a9-9d81308641a4",
   "metadata": {
    "tags": []
   },
   "source": [
    "#### Import the file \"functions_hw4.py\""
   ]
  },
  {
   "cell_type": "markdown",
   "id": "305e0f73-21e4-4542-92a5-1eed891d58b4",
   "metadata": {},
   "source": [
    "In this file there are:\n",
    "\n",
    "- All the functions from the file  \"AudioSignals.ipynb\"\n",
    "- All the functions written to run the algorithm and to show the outputs\n",
    "- Other useful utility functions and list of absolute paths to open files"
   ]
  },
  {
   "cell_type": "code",
   "execution_count": 9,
   "id": "e6fc5142-bcd4-4a3d-a331-d8f52aa3c3dc",
   "metadata": {},
   "outputs": [],
   "source": [
    "import functions_hw4 as f"
   ]
  },
  {
   "cell_type": "markdown",
   "id": "3226430b-b632-4f28-9e80-b3247f339b88",
   "metadata": {},
   "source": [
    "#### Load useful files in memory "
   ]
  },
  {
   "cell_type": "markdown",
   "id": "429143a7-76d9-403b-aff3-366e85e86727",
   "metadata": {},
   "source": [
    "1. \"Standard version\" with only MinHash with DURATION = 15 seconds"
   ]
  },
  {
   "cell_type": "code",
   "execution_count": 2,
   "id": "84e85521-17a6-41ec-a177-ced0197490c0",
   "metadata": {},
   "outputs": [],
   "source": [
    "shingles = f.load_pickle(f.PATH_SHINGLES_FILE_NUMPY)\n",
    "song_peaks = f.load_pickle(f.PATH_DICT_FILE)\n",
    "matrix = f.load_pickle(f.PATH_MATRIX)"
   ]
  },
  {
   "cell_type": "markdown",
   "id": "7b36412d-5960-4729-819f-a9ebbda335c4",
   "metadata": {},
   "source": [
    "2. \"Standard version\" with only MinHash with DURATION = 15 seconds"
   ]
  },
  {
   "cell_type": "code",
   "execution_count": 3,
   "id": "2a79ea2a-87fc-450c-bfd8-6d7bdf854580",
   "metadata": {},
   "outputs": [],
   "source": [
    "shingles_30 = f.load_pickle(f.PATH_SHINGLES_FILE_NUMPY30)\n",
    "song_peaks_30 = f.load_pickle(f.PATH_DICT_FILE30)\n",
    "matrix_30 = f.load_pickle(f.PATH_MATRIX30)"
   ]
  },
  {
   "cell_type": "markdown",
   "id": "70402531-424f-43ea-8df3-c13b7f25759a",
   "metadata": {},
   "source": [
    "3. \"Rounded peaks\" version of the algorithm with LSH"
   ]
  },
  {
   "cell_type": "code",
   "execution_count": 4,
   "id": "7231f7c8-ff98-4246-bb44-c6466201099e",
   "metadata": {},
   "outputs": [],
   "source": [
    "shingles_rounded = f.load_pickle(f.PATH_SHINGLES_FILE_ROUNDED)\n",
    "song_peaks_rounded = f.load_pickle(f.PATH_DICT_FILE_ROUNDED)\n",
    "matrix_rounded = f.load_pickle(f.PATH_MATRIX_ROUNDED)"
   ]
  },
  {
   "cell_type": "markdown",
   "id": "27831762-5107-41d7-b197-29a1fd7f1d51",
   "metadata": {},
   "source": [
    "### **Important** explanation of the whole implementation"
   ]
  },
  {
   "cell_type": "markdown",
   "id": "c6a07e3c-e3d6-4a11-91d0-7ee9a09f00fa",
   "metadata": {},
   "source": [
    "We implemented our shazam function in two ways, depending on the peaks extraction:\n",
    "\n",
    "1. We extracted the peaks from songs without rounding them. Infact we have precise peaks for each song and then apply **only** the \"MinHash\" algorithm directly. In this case \"LHS\" algorithm is almost useless becouse frequencies are very precise and it's difficult to define buckets with very different numbers.\n",
    "2. We extracted the peaks from songs rounding them and then apply **together** \"MinHash\" and \"LSH\""
   ]
  },
  {
   "cell_type": "markdown",
   "id": "9a9e6c79-3efc-4f79-b703-2c1b6e05e622",
   "metadata": {
    "jp-MarkdownHeadingCollapsed": true,
    "tags": []
   },
   "source": [
    "### 1.1 Getting your data!"
   ]
  },
  {
   "cell_type": "markdown",
   "id": "9625a559-1567-4913-97a7-9ef701c6a600",
   "metadata": {
    "id": "Uctedm0wplHp",
    "tags": []
   },
   "source": [
    "#### Download the dataset\n"
   ]
  },
  {
   "cell_type": "code",
   "execution_count": null,
   "id": "af8381ea-ca5c-4df2-9fa1-f402a93fdbd2",
   "metadata": {
    "id": "XjO3jeGYmN3m"
   },
   "outputs": [],
   "source": [
    "!pip install kaggle #first we install kaggle"
   ]
  },
  {
   "cell_type": "code",
   "execution_count": null,
   "id": "47c63bff-c11d-4c4d-a4b3-78fee2d6d9b1",
   "metadata": {
    "id": "_QrIt7brmyfe"
   },
   "outputs": [],
   "source": [
    "%cd # we move to root\n",
    "!mv /content/drive/MyDrive/ADM-HW4/kaggle.json .kaggle # in order to use kaggle we have to move the kaggle.json file in the .kaggle folder that is located in root"
   ]
  },
  {
   "cell_type": "code",
   "execution_count": null,
   "id": "dde357b0-c62f-48cd-b55c-1b575161a1fc",
   "metadata": {
    "id": "tVSU8Qgwm9tb"
   },
   "outputs": [],
   "source": [
    "%cd /content/drive/MyDrive/ADM-HW4 # we change the directory in the one we want to download the file\n",
    "!kaggle datasets download -d dhrumil140396/mp3s32k # we use the API command to download the zipped dataset file\n",
    "!unzip mp3s32k.zip # we unzip the file and now we can work on it"
   ]
  },
  {
   "cell_type": "markdown",
   "id": "7565f221-7d1a-470d-b4e3-b512f2eaad58",
   "metadata": {
    "id": "2IR7zEKbpslS",
    "tags": []
   },
   "source": [
    "#### Download the query songs"
   ]
  },
  {
   "cell_type": "code",
   "execution_count": null,
   "id": "b289ad2b-a984-4f79-821d-436e63f1a523",
   "metadata": {
    "colab": {
     "base_uri": "https://localhost:8080/"
    },
    "id": "ktEy40TCpwCO",
    "outputId": "d3881941-79a4-426b-a77a-40b285c37834",
    "tags": []
   },
   "outputs": [],
   "source": [
    "!sudo apt install wget # with command wget we can easily download files from multiple links with just a command "
   ]
  },
  {
   "cell_type": "code",
   "execution_count": null,
   "id": "629dee4d-7ba4-4668-91ff-b2de8c96b20a",
   "metadata": {
    "id": "DKGMq4uKqDL8",
    "tags": []
   },
   "outputs": [],
   "source": [
    "!wget https://sapienza2021adm.s3.eu-south-1.amazonaws.com/hw4/queries/track1.wav https://sapienza2021adm.s3.eu-south-1.amazonaws.com/hw4/queries/track2.wav https://sapienza2021adm.s3.eu-south-1.amazonaws.com/hw4/queries/track3.wav https://sapienza2021adm.s3.eu-south-1.amazonaws.com/hw4/queries/track4.wav https://sapienza2021adm.s3.eu-south-1.amazonaws.com/hw4/queries/track5.wav https://sapienza2021adm.s3.eu-south-1.amazonaws.com/hw4/queries/track6.wav https://sapienza2021adm.s3.eu-south-1.amazonaws.com/hw4/queries/track7.wav https://sapienza2021adm.s3.eu-south-1.amazonaws.com/hw4/queries/track8.wav https://sapienza2021adm.s3.eu-south-1.amazonaws.com/hw4/queries/track9.wav https://sapienza2021adm.s3.eu-south-1.amazonaws.com/hw4/queries/track10.wav"
   ]
  },
  {
   "cell_type": "markdown",
   "id": "1b6029a9-e082-473c-9f62-72e4fcaff84d",
   "metadata": {
    "id": "CWLjbkX6rBPu",
    "tags": []
   },
   "source": [
    "#### Convert the tracks to wav"
   ]
  },
  {
   "cell_type": "code",
   "execution_count": null,
   "id": "35b6b9a4-63f2-48d6-bec6-2afa0a5a776f",
   "metadata": {
    "tags": []
   },
   "outputs": [],
   "source": [
    "data_folder = Path(f.PATH_SONGS_FOLDER)\n",
    "mp3_tracks = data_folder.glob(\"*/*/*.mp3\")\n",
    "tracks = data_folder.glob(\"*/*/*.wav\")"
   ]
  },
  {
   "cell_type": "code",
   "execution_count": null,
   "id": "bbd8d47a-de7a-4634-a0d7-7367d9bb7389",
   "metadata": {
    "colab": {
     "base_uri": "https://localhost:8080/",
     "height": 49,
     "referenced_widgets": [
      "fd22e6e9b4f1413a9f6ca0c9c6cd573c",
      "71c9fa3ee6bb433382e531039249d82b",
      "f9fd4545f8ba4921a7e771e6ab3a505e",
      "a152c2c6701c4768ba9debd734e3d050",
      "487e110bda4a47d7ac22bba4c6d6062d",
      "e5aaeb5d6b45441a8a20c45a351d84b5",
      "5b9e2d536eba4700948cd018fcabb93f",
      "934a9b6685424b6d914d19b1dd6eb2e2",
      "12a96d02a62940e7931d04c5ecb87ccc",
      "b8653693fd2549c78e96b207a76c3cc4",
      "00e17d06aa534d80b570c25528fddd5d"
     ]
    },
    "id": "oKDMpUgNrAdh",
    "outputId": "f5a9c17c-630a-468b-b012-71597b0dfef2",
    "tags": []
   },
   "outputs": [],
   "source": [
    "for track in tqdm(mp3_tracks, total=N_TRACKS):\n",
    "    convert_mp3_to_wav(str(track))"
   ]
  },
  {
   "cell_type": "markdown",
   "id": "725d278c-f63a-4f40-9bb8-503c0f103327",
   "metadata": {},
   "source": [
    "### 1.2 Fingerprint hashing"
   ]
  },
  {
   "cell_type": "markdown",
   "id": "c505090d-a54f-4bd5-ad3c-b25032d5cb70",
   "metadata": {},
   "source": [
    "#### Initial processing operations "
   ]
  },
  {
   "cell_type": "markdown",
   "id": "07888b6e-a103-4cb8-be1e-2a02cb39d67a",
   "metadata": {},
   "source": [
    "Get all the songs paths from the list file"
   ]
  },
  {
   "cell_type": "code",
   "execution_count": 5,
   "id": "a54e6730-0898-4205-b597-b7fcd53259d0",
   "metadata": {},
   "outputs": [],
   "source": [
    "with open(f.PATH_ALL_LIST, 'r') as f:\n",
    "     song_path = [row.replace('\\n', '.wav') for row in f.readlines()]"
   ]
  },
  {
   "cell_type": "markdown",
   "id": "33b8783b-f1e3-479f-b8a4-9f182caa1fe2",
   "metadata": {},
   "source": [
    "This is an example of how the files defined and read above are created and stored as files (this is the \"rounded\" peaks case)\n",
    "\n",
    "**We don't need to execute them if we already have the files in our computer**"
   ]
  },
  {
   "cell_type": "code",
   "execution_count": null,
   "id": "d65bf1d1-9833-41c2-a325-0d877b85c821",
   "metadata": {},
   "outputs": [],
   "source": [
    "song_peaks = f.extract_peaks(song_path, True)\n",
    "f.save_pickle(song_peaks, f.PATH_DICT_FILE_ROUNDED)"
   ]
  },
  {
   "cell_type": "code",
   "execution_count": null,
   "id": "c0b80f6b-a3ce-4f8c-8991-6666b7e858fa",
   "metadata": {},
   "outputs": [],
   "source": [
    "shingles = f.unique_shingles(song_peaks)\n",
    "f.save_pickle(shingles, f.PATH_SHINGLES_FILE_ROUNDED)"
   ]
  },
  {
   "cell_type": "code",
   "execution_count": null,
   "id": "4976858c-2571-4301-ba46-88cad207a507",
   "metadata": {},
   "outputs": [],
   "source": [
    "matrix = shingles_matrix(shingles, song_peaks)\n",
    "f.save_pickle(matrix, f.PATH_MATRIX_ROUNDED)"
   ]
  },
  {
   "cell_type": "markdown",
   "id": "4bac8e53-3b56-4501-8471-f1656c1af887",
   "metadata": {},
   "source": [
    "#### Apply MinHash directly algorithm to the not rounded (15 seconds version)"
   ]
  },
  {
   "cell_type": "markdown",
   "id": "7eb241f2-eda8-462c-a2cb-5467bad5ef5d",
   "metadata": {},
   "source": [
    "Default value of permutation is 20"
   ]
  },
  {
   "cell_type": "code",
   "execution_count": 10,
   "id": "583b4953-e315-4807-890b-fba55225dc75",
   "metadata": {},
   "outputs": [
    {
     "name": "stderr",
     "output_type": "stream",
     "text": [
      "100%|██████████| 20/20 [00:16<00:00,  1.21it/s]\n"
     ]
    }
   ],
   "source": [
    "hash_matrix_not_rounded = f.hash_matrix(matrix, shingles, song_peaks)"
   ]
  },
  {
   "cell_type": "code",
   "execution_count": 11,
   "id": "80a6adb5-5edc-47d2-a864-2cb99e528484",
   "metadata": {},
   "outputs": [
    {
     "name": "stdout",
     "output_type": "stream",
     "text": [
      "Im listening to your music, please dont make noise ...\n",
      "Maybe you were looking for this song:  dream on - aerosmith \n",
      "-----------------------\n",
      "\n",
      "Im listening to your music, please dont make noise ...\n",
      "Maybe you were looking for this song:  i want to break free - queen \n",
      "-----------------------\n",
      "\n",
      "Im listening to your music, please dont make noise ...\n",
      "Maybe you were looking for this song:  october - u2 \n",
      "-----------------------\n",
      "\n",
      "Im listening to your music, please dont make noise ...\n",
      "Maybe you were looking for this song:  ob-la-di ob-la-da - beatles \n",
      "-----------------------\n",
      "\n",
      "Im listening to your music, please dont make noise ...\n",
      "Maybe you were looking for this song:  karma police - radiohead \n",
      "-----------------------\n",
      "\n",
      "Im listening to your music, please dont make noise ...\n",
      "Maybe you were looking for this song:  heartbreaker - led zeppelin \n",
      "-----------------------\n",
      "\n",
      "Im listening to your music, please dont make noise ...\n",
      "Maybe you were looking for this song:  go your own way - fleetwood mac \n",
      "-----------------------\n",
      "\n",
      "Im listening to your music, please dont make noise ...\n",
      "Maybe you were looking for this song:  american idiot - green day \n",
      "-----------------------\n",
      "\n",
      "Im listening to your music, please dont make noise ...\n",
      "Maybe you were looking for this song:  somebody - depeche mode \n",
      "-----------------------\n",
      "\n",
      "Im listening to your music, please dont make noise ...\n",
      "Maybe you were looking for this song:  black friday - steely dan \n",
      "-----------------------\n",
      "\n"
     ]
    }
   ],
   "source": [
    "for i in range(1,11):\n",
    "    f.shazam(f.PATH_TEST_QUERY + f'{i}.wav', hash_matrix_not_rounded, shingles)"
   ]
  },
  {
   "cell_type": "markdown",
   "id": "190a09c6-607f-41a5-9563-4d487db66159",
   "metadata": {},
   "source": [
    "#### Apply MinHash directly algorithm to the not rounded (30 seconds version)"
   ]
  },
  {
   "cell_type": "markdown",
   "id": "5dc5da98-96fd-4f6b-b635-877c52dc3880",
   "metadata": {},
   "source": [
    "In order to apply this we have to set the value of DURATION in \"functions_hw4.py\" file to 30"
   ]
  },
  {
   "cell_type": "code",
   "execution_count": 12,
   "id": "17273499-8a11-4ddd-b11b-206e16792bc9",
   "metadata": {},
   "outputs": [],
   "source": [
    "f.DURATION = 30"
   ]
  },
  {
   "cell_type": "code",
   "execution_count": 13,
   "id": "6dfe71d5-cc43-44e1-97d3-0c5b5403cff6",
   "metadata": {},
   "outputs": [
    {
     "name": "stderr",
     "output_type": "stream",
     "text": [
      "100%|██████████| 20/20 [00:33<00:00,  1.67s/it]\n"
     ]
    }
   ],
   "source": [
    "hash_matrix_not_rounded_30 = f.hash_matrix(matrix_30, shingles_30, song_peaks_30)"
   ]
  },
  {
   "cell_type": "code",
   "execution_count": 14,
   "id": "d4194c6c-16ed-44d9-9710-503d47d91d59",
   "metadata": {},
   "outputs": [
    {
     "name": "stdout",
     "output_type": "stream",
     "text": [
      "Im listening to your music, please dont make noise ...\n",
      "Maybe you were looking for this song:  dream on - aerosmith \n",
      "-----------------------\n",
      "\n",
      "Im listening to your music, please dont make noise ...\n",
      "Maybe you were looking for this song:  i want to break free - queen \n",
      "-----------------------\n",
      "\n",
      "Im listening to your music, please dont make noise ...\n",
      "Maybe you were looking for this song:  october - u2 \n",
      "-----------------------\n",
      "\n",
      "Im listening to your music, please dont make noise ...\n",
      "Maybe you were looking for this song:  ob-la-di ob-la-da - beatles \n",
      "-----------------------\n",
      "\n",
      "Im listening to your music, please dont make noise ...\n",
      "Maybe you were looking for this song:  karma police - radiohead \n",
      "-----------------------\n",
      "\n",
      "Im listening to your music, please dont make noise ...\n",
      "Maybe you were looking for this song:  heartbreaker - led zeppelin \n",
      "-----------------------\n",
      "\n",
      "Im listening to your music, please dont make noise ...\n",
      "Maybe you were looking for this song:  go your own way - fleetwood mac \n",
      "-----------------------\n",
      "\n",
      "Im listening to your music, please dont make noise ...\n",
      "Maybe you were looking for this song:  american idiot - green day \n",
      "-----------------------\n",
      "\n",
      "Im listening to your music, please dont make noise ...\n",
      "Maybe you were looking for this song:  somebody - depeche mode \n",
      "-----------------------\n",
      "\n",
      "Im listening to your music, please dont make noise ...\n",
      "Maybe you were looking for this song:  black friday - steely dan \n",
      "-----------------------\n",
      "\n"
     ]
    }
   ],
   "source": [
    "for i in range(1,11):\n",
    "    f.shazam(f.PATH_TEST_QUERY + f'{i}.wav', hash_matrix_not_rounded_30, shingles_30)"
   ]
  },
  {
   "cell_type": "markdown",
   "id": "ffee23ab-621a-4903-b579-13db93cdc551",
   "metadata": {},
   "source": [
    "#### Apply MinHash and LSH together to the rounded version"
   ]
  },
  {
   "cell_type": "markdown",
   "id": "8464b663-12b7-47bd-a40e-a1c6e6a077d4",
   "metadata": {},
   "source": [
    "We have to reset to 15 seconds the duration for the rounded version"
   ]
  },
  {
   "cell_type": "code",
   "execution_count": 18,
   "id": "d14d9891-569f-468f-a4b1-b46e708fe004",
   "metadata": {},
   "outputs": [],
   "source": [
    "f.DURATION = 15"
   ]
  },
  {
   "cell_type": "code",
   "execution_count": 19,
   "id": "a22381c3-a3b5-4d0b-ac68-2355f49a912d",
   "metadata": {},
   "outputs": [
    {
     "name": "stderr",
     "output_type": "stream",
     "text": [
      "100%|██████████| 20/20 [00:00<00:00, 110.78it/s]\n"
     ]
    }
   ],
   "source": [
    "hash_matrix_rounded = f.hash_matrix(matrix_rounded, shingles_rounded, song_peaks_rounded)"
   ]
  },
  {
   "cell_type": "code",
   "execution_count": 20,
   "id": "e533503d-849b-4d65-b9a1-c4744dedfabd",
   "metadata": {},
   "outputs": [],
   "source": [
    "buckets = f.db_buckets(hash_matrix_rounded, n_bands=5)"
   ]
  },
  {
   "cell_type": "code",
   "execution_count": 21,
   "id": "6d220ba2-5d9f-44c7-bcad-b4d1c41bfb9b",
   "metadata": {},
   "outputs": [
    {
     "name": "stdout",
     "output_type": "stream",
     "text": [
      "Im listening to your music, please dont make noise ...\n",
      "Maybe you were looking for this song:  dream on - aerosmith \n",
      "-----------------------\n",
      "\n",
      "Im listening to your music, please dont make noise ...\n",
      "Maybe you were looking for this song:  i want to break free - queen \n",
      "-----------------------\n",
      "\n",
      "Im listening to your music, please dont make noise ...\n",
      "Maybe you were looking for this song:  october - u2 \n",
      "-----------------------\n",
      "\n",
      "Im listening to your music, please dont make noise ...\n",
      "Maybe you were looking for this song:  ob-la-di ob-la-da - beatles \n",
      "-----------------------\n",
      "\n",
      "Im listening to your music, please dont make noise ...\n",
      "Maybe you were looking for this song:  karma police - radiohead \n",
      "-----------------------\n",
      "\n",
      "Im listening to your music, please dont make noise ...\n",
      "Maybe you were looking for this song:  heartbreaker - led zeppelin \n",
      "-----------------------\n",
      "\n",
      "Im listening to your music, please dont make noise ...\n",
      "Maybe you were looking for this song:  go your own way - fleetwood mac \n",
      "-----------------------\n",
      "\n",
      "Im listening to your music, please dont make noise ...\n",
      "Maybe you were looking for this song:  american idiot - green day \n",
      "-----------------------\n",
      "\n",
      "Im listening to your music, please dont make noise ...\n",
      "Maybe you were looking for this song:  somebody - depeche mode \n",
      "-----------------------\n",
      "\n",
      "Im listening to your music, please dont make noise ...\n",
      "Maybe you were looking for this song:  black friday - steely dan \n",
      "-----------------------\n",
      "\n"
     ]
    }
   ],
   "source": [
    "for i in range(1,11):\n",
    "    f.shazamLSH(f.PATH_TEST_QUERY + f'{i}.wav', hash_matrix_rounded, shingles_rounded, buckets)"
   ]
  },
  {
   "cell_type": "markdown",
   "id": "c8ac27cf-579d-48fc-bf94-59e666ae1056",
   "metadata": {
    "id": "wrALfJ_vDG24"
   },
   "source": [
    "# 2. Grouping songs togheter\n",
    "We play with a dataset gathering songs from the International Society for Music Information Retrieval Conference. The tracks (songs) include much information. We focus on the track information, features (extracted with librosa library from Python) and audio variables provided by Echonest (now Spotify).testo in corsivo"
   ]
  },
  {
   "cell_type": "code",
   "execution_count": null,
   "id": "6ef06ee9-0d10-462d-a77d-1a7f617bf784",
   "metadata": {
    "id": "sP5Hdq3psosK"
   },
   "outputs": [],
   "source": [
    "import pandas as pd\n",
    "import glob\n",
    "from sklearn.preprocessing import StandardScaler\n",
    "from sklearn.decomposition import PCA\n",
    "import numpy as np\n",
    "import matplotlib.pyplot as plt\n",
    "from matplotlib.pyplot import figure\n",
    "import scipy as sc\n",
    "from scipy.spatial.distance import cdist \n",
    "from sklearn.cluster import KMeans\n",
    "from scipy.spatial import distance\n",
    "import sklearn\n",
    "from sklearn.metrics import silhouette_score\n",
    "from sklearn import metrics\n",
    "from yellowbrick.cluster import KElbowVisualizer\n"
   ]
  },
  {
   "cell_type": "code",
   "execution_count": null,
   "id": "661fdd4a-e202-4a8f-8f93-5eba89a181aa",
   "metadata": {
    "colab": {
     "base_uri": "https://localhost:8080/"
    },
    "id": "lEzYkdWPsqvJ",
    "outputId": "f1488c75-6ed4-4c05-d241-4850922534dd"
   },
   "outputs": [
    {
     "name": "stdout",
     "output_type": "stream",
     "text": [
      "Mounted at /content/drive\n"
     ]
    }
   ],
   "source": [
    "## Mount Drive\n",
    "from google.colab import drive \n",
    "drive.mount('/content/drive')"
   ]
  },
  {
   "cell_type": "code",
   "execution_count": null,
   "id": "4905ca35-fd2c-45ca-9baf-f8a6d6a6cf65",
   "metadata": {
    "id": "RuRKNFKYs1bh"
   },
   "outputs": [],
   "source": [
    "path = '/content/drive/My Drive/HW4'\n",
    "\n",
    "import os\n",
    "os.chdir(path)"
   ]
  },
  {
   "cell_type": "markdown",
   "id": "e90d62af-31e2-4c4d-9345-693d4364d942",
   "metadata": {
    "id": "AlMJRiQtDSeG"
   },
   "source": [
    "## 2.1 Getting your data!\n",
    "In this part of the exercise we are gonna extract the data and clean them\n"
   ]
  },
  {
   "cell_type": "code",
   "execution_count": null,
   "id": "457a4d21-1c7d-42ea-9c28-ed2f1f91e17c",
   "metadata": {
    "id": "Mr04N9v7s1eB"
   },
   "outputs": [],
   "source": [
    "## Load Data\n",
    "df1 = pd.read_csv('echonest.csv')\n",
    "df2 = pd.read_csv('features.csv')"
   ]
  },
  {
   "cell_type": "code",
   "execution_count": null,
   "id": "f61eb40c-2446-4ca7-8edf-e46836032fd8",
   "metadata": {
    "colab": {
     "base_uri": "https://localhost:8080/"
    },
    "id": "2mgCF4SNvQUh",
    "outputId": "2dac7c78-e113-4eeb-f79c-584a91edf97e"
   },
   "outputs": [
    {
     "data": {
      "text/plain": [
       "track_id                                  0\n",
       "audio_features_acousticness               0\n",
       "audio_features_danceability               0\n",
       "audio_features_energy                     0\n",
       "audio_features_instrumentalness           0\n",
       "audio_features_liveness                   0\n",
       "audio_features_speechiness                0\n",
       "audio_features_tempo                      0\n",
       "audio_features_valence                    0\n",
       "metadata_album_date                   10412\n",
       "metadata_album_name                   10257\n",
       "metadata_artist_latitude               3359\n",
       "metadata_artist_location               3359\n",
       "metadata_artist_longitude              3359\n",
       "metadata_artist_name                      0\n",
       "metadata_release                          0\n",
       "ranks_artist_discovery_rank           10304\n",
       "ranks_artist_familiarity_rank         10304\n",
       "ranks_artist_hotttnesss_rank          10305\n",
       "ranks_song_currency_rank              11096\n",
       "ranks_song_hotttnesss_rank            10923\n",
       "social_features_artist_discovery          0\n",
       "social_features_artist_familiarity        0\n",
       "social_features_artist_hotttnesss         0\n",
       "social_features_song_currency             0\n",
       "social_features_song_hotttnesss           0\n",
       "temporal_features_000                     0\n",
       "temporal_features_001                     0\n",
       "temporal_features_002                     0\n",
       "temporal_features_003                     0\n",
       "temporal_features_004                     0\n",
       "temporal_features_005                     0\n",
       "temporal_features_006                     0\n",
       "temporal_features_007                     0\n",
       "temporal_features_008                     0\n",
       "temporal_features_009                     0\n",
       "temporal_features_010                     0\n",
       "temporal_features_011                     0\n",
       "temporal_features_012                     0\n",
       "temporal_features_013                     0\n",
       "temporal_features_014                     0\n",
       "temporal_features_015                     0\n",
       "temporal_features_016                     0\n",
       "temporal_features_017                     0\n",
       "temporal_features_018                     0\n",
       "temporal_features_019                     0\n",
       "temporal_features_020                     0\n",
       "temporal_features_021                     0\n",
       "temporal_features_022                     0\n",
       "temporal_features_023                     0\n",
       "dtype: int64"
      ]
     },
     "execution_count": 9,
     "metadata": {},
     "output_type": "execute_result"
    }
   ],
   "source": [
    "df1.isnull().sum().head(50)"
   ]
  },
  {
   "cell_type": "code",
   "execution_count": null,
   "id": "fcef4e74-4835-42a2-a3ad-a185f9653842",
   "metadata": {
    "colab": {
     "base_uri": "https://localhost:8080/"
    },
    "id": "0TWjzw4QtjoW",
    "outputId": "a277b028-5b18-435f-a0f7-3af554a6e2a5"
   },
   "outputs": [
    {
     "name": "stdout",
     "output_type": "stream",
     "text": [
      "<class 'pandas.core.frame.DataFrame'>\n",
      "RangeIndex: 13129 entries, 0 to 13128\n",
      "Columns: 250 entries, track_id to temporal_features_223\n",
      "dtypes: float64(244), int64(1), object(5)\n",
      "memory usage: 25.0+ MB\n"
     ]
    }
   ],
   "source": [
    "df1.info()"
   ]
  },
  {
   "cell_type": "markdown",
   "id": "148c2266-3d8a-478b-aff0-5c58088c704b",
   "metadata": {
    "id": "gIEx1YzfGP1K"
   },
   "source": [
    "For the column with over 10 thousand NA's we decided to directly not consider the whole column as we consider them not useful for the PCA, while for the other columns where the number of NA's is not drastically big we thought that the best way was to interpolate them with the 'nearest' method"
   ]
  },
  {
   "cell_type": "code",
   "execution_count": null,
   "id": "400122b8-d4d1-4912-971d-e36674be589e",
   "metadata": {
    "colab": {
     "base_uri": "https://localhost:8080/"
    },
    "id": "wLqAKzVBgRxk",
    "outputId": "3f006d17-f313-4695-b05f-21cd22b8b229"
   },
   "outputs": [
    {
     "data": {
      "text/plain": [
       "3359"
      ]
     },
     "execution_count": 8,
     "metadata": {},
     "output_type": "execute_result"
    }
   ],
   "source": [
    "df1['metadata_artist_latitude'].isnull().sum()"
   ]
  },
  {
   "cell_type": "code",
   "execution_count": null,
   "id": "d8c970fd-2c9b-4c41-ab7a-95b6bdf0a1e2",
   "metadata": {
    "colab": {
     "base_uri": "https://localhost:8080/"
    },
    "id": "p4d-ulBStbqF",
    "outputId": "9b67369a-594c-4f8b-d499-7097d14b3b9b"
   },
   "outputs": [
    {
     "data": {
      "text/plain": [
       "3359"
      ]
     },
     "execution_count": 9,
     "metadata": {},
     "output_type": "execute_result"
    }
   ],
   "source": [
    "df1['metadata_artist_longitude'].isnull().sum()"
   ]
  },
  {
   "cell_type": "code",
   "execution_count": null,
   "id": "493026b8-13d3-4ffd-9bc2-5e41372e1ef8",
   "metadata": {
    "id": "BXE5k5O7ipzN"
   },
   "outputs": [],
   "source": [
    "df1['metadata_artist_latitude'] = df1['metadata_artist_latitude'].interpolate(method = 'nearest')\n",
    "df1['metadata_artist_longitude'] = df1['metadata_artist_longitude'].interpolate(method = 'nearest')"
   ]
  },
  {
   "cell_type": "markdown",
   "id": "0b9b7788-3ef0-44a0-93d5-65977248de04",
   "metadata": {
    "id": "kkvBi7Q-tW3N"
   },
   "source": [
    "We look for a column in common to the 2 data sets to perform the join"
   ]
  },
  {
   "cell_type": "code",
   "execution_count": null,
   "id": "3764b6e8-3f09-4142-9d53-ae64e57b4962",
   "metadata": {
    "colab": {
     "base_uri": "https://localhost:8080/"
    },
    "id": "xkGdXVgUs1gQ",
    "outputId": "af06c180-4e64-4e74-aa81-1490227d9bb9"
   },
   "outputs": [
    {
     "data": {
      "text/plain": [
       "{'track_id'}"
      ]
     },
     "execution_count": 11,
     "metadata": {},
     "output_type": "execute_result"
    }
   ],
   "source": [
    "set(df1.columns).intersection(set(df2.columns))"
   ]
  },
  {
   "cell_type": "code",
   "execution_count": null,
   "id": "48cbcac5-6dca-4633-9105-5b4e27cf32e2",
   "metadata": {
    "id": "5VJWKIqhs1oS"
   },
   "outputs": [],
   "source": [
    "## Inner Join\n",
    "df = pd.merge(left = df1, right = df2, left_on = 'track_id', right_on = 'track_id')"
   ]
  },
  {
   "cell_type": "markdown",
   "id": "a7b84532-020f-4bfe-948f-a1ca5086831d",
   "metadata": {
    "id": "6j8F8511us0G"
   },
   "source": [
    "## 2.2 Choose your features\n"
   ]
  },
  {
   "cell_type": "markdown",
   "id": "9bbdd49a-1dc6-43ee-bb99-5e639f301ab3",
   "metadata": {
    "id": "kRlWLDS0GXQJ"
   },
   "source": [
    "Let's look to the columns that we need to do the PCA (we need to delete the columns with object, categorical data and irrelevant variables) "
   ]
  },
  {
   "cell_type": "code",
   "execution_count": null,
   "id": "1539d390-1c24-49a4-9ee1-6ce80814d8c1",
   "metadata": {
    "id": "Sh_pTXrbo2G8"
   },
   "outputs": [],
   "source": [
    "df_new = df.drop(columns=['metadata_artist_location','metadata_artist_name',\n",
    "                            'metadata_album_date',\n",
    "                            'metadata_album_name','metadata_release',\n",
    "                            'ranks_artist_discovery_rank','ranks_artist_familiarity_rank', 'ranks_artist_hotttnesss_rank',\n",
    "                            'ranks_song_currency_rank', 'ranks_song_hotttnesss_rank'])"
   ]
  },
  {
   "cell_type": "markdown",
   "id": "7877d989-8e7f-47f7-8d03-fd509f0858e2",
   "metadata": {
    "id": "3wOyp9BVIXO9"
   },
   "source": [
    "## 2.2 Principal Components Analysis\n",
    "\n",
    "\n",
    "\n",
    "We want to do a dimensionality reduction, so we choose to use the Principal Component Analysis (PCA) method.  "
   ]
  },
  {
   "cell_type": "code",
   "execution_count": null,
   "id": "b1fd7fc6-dd5e-4467-a788-eeb39ae0aef0",
   "metadata": {
    "id": "Jcoro-SEvfVi"
   },
   "outputs": [],
   "source": [
    "df_pca = df_new.drop(columns=['track_id'])"
   ]
  },
  {
   "cell_type": "markdown",
   "id": "f2175008-2a05-49ec-b111-d71ad43b9d1c",
   "metadata": {
    "id": "uqPVbmHI68Lh"
   },
   "source": [
    "#### Standardization\n",
    "\n",
    "Standardization is a procedure that leads a random variable distributed according to an average μ and variance σ², \n",
    "to a random variable with a \"standard\" distribution, that is of zero average and variance equal to 1."
   ]
  },
  {
   "cell_type": "code",
   "execution_count": null,
   "id": "6034c146-e85c-4000-9d4b-309c900532db",
   "metadata": {
    "id": "PDs7CtsK7ThK"
   },
   "outputs": [],
   "source": [
    "## In this way we standardize the features\n",
    "\n",
    "x = StandardScaler().fit_transform(df_pca)\n",
    "x = pd.DataFrame(x)"
   ]
  },
  {
   "cell_type": "code",
   "execution_count": null,
   "id": "811d4d3e-78f2-449e-bfe5-d436e872bd1f",
   "metadata": {
    "colab": {
     "base_uri": "https://localhost:8080/"
    },
    "id": "73cX24zSy51Z",
    "outputId": "395a9797-3b57-4dc7-9005-dff707b98702"
   },
   "outputs": [
    {
     "data": {
      "text/plain": [
       "PCA()"
      ]
     },
     "execution_count": 44,
     "metadata": {},
     "output_type": "execute_result"
    }
   ],
   "source": [
    "## PCA\n",
    "\n",
    "## We leave the empty argument into pca because we want a number of components \n",
    "## equal to the number of the features\n",
    "pca = PCA()\n",
    "pca.fit(x)\n",
    "\n",
    "\n",
    "#pca.explained_variance_ratio_"
   ]
  },
  {
   "cell_type": "markdown",
   "id": "abd6caa0-8674-4e61-9a1d-30ad6dfdd20c",
   "metadata": {
    "id": "qPh1cAhG8RSu"
   },
   "source": [
    "#### Cumulate percentage of variance \n",
    "\n",
    "The following array shows the cumulative variance of the first 100 components."
   ]
  },
  {
   "cell_type": "code",
   "execution_count": null,
   "id": "322968ab-da09-46d3-9d10-bb318b2b80f9",
   "metadata": {
    "colab": {
     "base_uri": "https://localhost:8080/"
    },
    "id": "UE7jw8H846wF",
    "outputId": "27184e9b-d03e-4ad3-b730-6d30508b361c"
   },
   "outputs": [
    {
     "data": {
      "text/plain": [
       "array([0.1080524 , 0.18448808, 0.2208393 , 0.24999421, 0.27572699,\n",
       "       0.29969785, 0.32238567, 0.34413393, 0.36420684, 0.38171801,\n",
       "       0.39785179, 0.41220401, 0.42570554, 0.43867622, 0.45123161,\n",
       "       0.46285066, 0.47437718, 0.48568284, 0.49614924, 0.50629368,\n",
       "       0.51617265, 0.524697  , 0.53273209, 0.54033421, 0.54755404,\n",
       "       0.55414613, 0.56066346, 0.56672783, 0.57257453, 0.57812457,\n",
       "       0.58359364, 0.58882496, 0.59399115, 0.59894491, 0.60372394,\n",
       "       0.60836552, 0.61293231, 0.61739253, 0.62177469, 0.62596953,\n",
       "       0.63004576, 0.63402986, 0.6379555 , 0.6418094 , 0.64552984,\n",
       "       0.64913323, 0.65267055, 0.65606222, 0.65945144, 0.66275489,\n",
       "       0.66603992, 0.66922337, 0.67234985, 0.67545908, 0.67851901,\n",
       "       0.68148124, 0.68439171, 0.68725278, 0.69009632, 0.69288388,\n",
       "       0.69564991, 0.69837672, 0.70108335, 0.7037162 , 0.70633711,\n",
       "       0.7088601 , 0.71135108, 0.71380461, 0.71622181, 0.71862291,\n",
       "       0.72097241, 0.72331012, 0.72561747, 0.72789759, 0.73017325,\n",
       "       0.7324053 , 0.73460497, 0.73678483, 0.73891506, 0.74103372,\n",
       "       0.7431152 , 0.74518215, 0.74721793, 0.74924752, 0.75125049,\n",
       "       0.75324029, 0.75521278, 0.75716285, 0.75909903, 0.76098021,\n",
       "       0.76285866, 0.76471669, 0.7665544 , 0.76837804, 0.77019112,\n",
       "       0.7719881 , 0.77376491, 0.77552028, 0.77726693, 0.7789893 ])"
      ]
     },
     "execution_count": 80,
     "metadata": {},
     "output_type": "execute_result"
    }
   ],
   "source": [
    "np.cumsum(pca.explained_variance_ratio_)[:100]"
   ]
  },
  {
   "cell_type": "markdown",
   "id": "6c50e612-278a-4c86-8598-f3570d398e3f",
   "metadata": {
    "id": "Yc6zAxTuBOLA"
   },
   "source": [
    "We can see that the threshold of 70% of explained variance is reached with a total number of 64 components."
   ]
  },
  {
   "cell_type": "code",
   "execution_count": null,
   "id": "72d97837-ae28-46c0-8e00-5c407543e445",
   "metadata": {
    "colab": {
     "base_uri": "https://localhost:8080/",
     "height": 497
    },
    "id": "Hxv81j973WS6",
    "outputId": "23437789-12d3-4909-feee-0855b61509d0"
   },
   "outputs": [
    {
     "data": {
      "image/png": "[encoded data removed]",
      "text/plain": [
       "<Figure size 1152x576 with 1 Axes>"
      ]
     },
     "metadata": {
      "needs_background": "light"
     },
     "output_type": "display_data"
    }
   ],
   "source": [
    "#loadings = pd.DataFrame(pca.components_.T,\n",
    "#columns=['PC%s' % _ for _ in range(len(x.columns))],\n",
    "#index=x.columns)\n",
    "#print(loadings)\n",
    "cumulatevariance = np.cumsum(pca.explained_variance_ratio_)\n",
    "cumulatevariance = cumulatevariance[cumulatevariance <= 0.7019].tolist() #we are gonna take the number of components (n) by taking the length of the first variance ratio that are at least 70%\n",
    "n = len(cumulatevariance)+1 \n",
    "plt.figure(figsize=(16,8))\n",
    "plt.plot(np.cumsum(pca.explained_variance_ratio_))\n",
    "plt.xlabel('number of components')\n",
    "plt.ylabel('cumulative explained variance')\n",
    "plt.xlim((0,100))\n",
    "plt.axvline(n, color = 'orange');\n",
    "#print('As we can see, the 70% treshold of the total variance is crossed by', n, 'so we are gonna take the first', n , 'components')"
   ]
  },
  {
   "cell_type": "markdown",
   "id": "6ef4003c-083a-46c0-9526-bd66e178dd1d",
   "metadata": {
    "id": "fgJkG3XzKd8q"
   },
   "source": [
    "# 2.3 Clustering"
   ]
  },
  {
   "cell_type": "markdown",
   "id": "485fb337-3c22-483c-9aa5-8ed7a4f681a6",
   "metadata": {
    "id": "ggC6FrdvkQyj"
   },
   "source": [
    "At this step we select the first 64 score\n"
   ]
  },
  {
   "cell_type": "code",
   "execution_count": null,
   "id": "5c509367-240a-44ce-9370-73a9362eb8f1",
   "metadata": {
    "id": "pWc4HeEDBxqR"
   },
   "outputs": [],
   "source": [
    "dataset = pd.DataFrame(pca.transform(x))\n",
    "dataset = dataset.iloc[0:, :n]\n"
   ]
  },
  {
   "cell_type": "markdown",
   "id": "35805b1a-9c6d-4d86-b34b-42e209f9d016",
   "metadata": {
    "id": "yK0b7uVzkfIJ"
   },
   "source": [
    "We implement k-means alghoritm "
   ]
  },
  {
   "cell_type": "markdown",
   "id": "c4fa7ce0-52a1-4e15-a27b-e3d63a3ae981",
   "metadata": {
    "id": "NOOH2kw4k27o"
   },
   "source": [
    "Clusters"
   ]
  },
  {
   "cell_type": "code",
   "execution_count": null,
   "id": "cdac1455-b1e7-4015-a625-bd616195e601",
   "metadata": {
    "id": "6UWXyP63eA4U"
   },
   "outputs": [],
   "source": [
    "## Clustering\n",
    "\n",
    "K = 20\n",
    "\n",
    "labels = []\n",
    "centers = []\n",
    "\n",
    "for k in range(2,K+1):\n",
    "    label,center = f.kmeans(dataset,k)\n",
    "    labels.append(label)\n",
    "    centers.append(center)"
   ]
  },
  {
   "cell_type": "markdown",
   "id": "c244819a-d06f-4557-97b9-d24fe51322af",
   "metadata": {
    "id": "rqzGxmC1Mjhp"
   },
   "source": [
    "#### Elbow method"
   ]
  },
  {
   "cell_type": "code",
   "execution_count": null,
   "id": "3292645c-ec12-499b-a95d-9c5703ab8ea0",
   "metadata": {
    "id": "3Z_S1azc3POW"
   },
   "outputs": [],
   "source": [
    "## Within cluster sum of square\n",
    "\n",
    "Within = []\n",
    "for center in centers:\n",
    "    within = np.min(distance.cdist(dataset, center, 'euclidean'),axis=1)\n",
    "    within=within**2\n",
    "    Within.append(sum(within))\n",
    "\n"
   ]
  },
  {
   "cell_type": "code",
   "execution_count": null,
   "id": "08e3b587-88a2-43af-be06-0b66dc23c36d",
   "metadata": {
    "colab": {
     "base_uri": "https://localhost:8080/",
     "height": 498
    },
    "id": "dKMKj0x9CXK1",
    "outputId": "039ad267-eaa4-4f75-f2a0-880974de5939"
   },
   "outputs": [
    {
     "data": {
      "image/png": "[encoded data removed]",
      "text/plain": [
       "<Figure size 1152x576 with 1 Axes>"
      ]
     },
     "metadata": {
      "needs_background": "light"
     },
     "output_type": "display_data"
    }
   ],
   "source": [
    "## Scree Plot \n",
    "\n",
    "import matplotlib.pyplot as plt\n",
    "import numpy as np\n",
    "\n",
    "x = []\n",
    "\n",
    "for i in range(2,K+1):\n",
    "    x.append(i)\n",
    "\n",
    "\n",
    "plt.figure(figsize=(16,8))\n",
    "plt.plot(x, Within, 'o-', linewidth=2, color='blue')\n",
    "plt.title('Scree Plot')\n",
    "plt.xlim((1,21))\n",
    "plt.show()"
   ]
  },
  {
   "cell_type": "markdown",
   "id": "f2c882e6-e348-4c63-94a9-43962eb1c5d0",
   "metadata": {
    "id": "o6x8sfoBM-DK"
   },
   "source": [
    "From the scree plot we can see that the suggested number of clusters is 10 because we can clearly see a 'scree' (where the function stops decreasing fast)"
   ]
  },
  {
   "cell_type": "markdown",
   "id": "37fb39d3-455d-4c37-93a2-2e5ebaee0758",
   "metadata": {
    "id": "XH4aQXkdMxqZ"
   },
   "source": [
    "#### Silhouette"
   ]
  },
  {
   "cell_type": "markdown",
   "id": "f9f6f22d-1167-4bd4-99ae-8c7a6a6b29ae",
   "metadata": {
    "id": "3Dc592NiOBnE"
   },
   "source": [
    "For each point within our data set we calculate the silhouette score S:\n",
    "\n",
    "$$S = \\frac{(b - a)}{max(a, b)}$$\n",
    "\n",
    "where:\n",
    "- a is equal to the distance between a point and all other points within the same cluster;\n",
    "- b is equal to the distance of a point from all points in the nearest cluster.\n",
    "\n",
    "Once obtained S for each point we compute the mean of the values obtained. "
   ]
  },
  {
   "cell_type": "code",
   "execution_count": null,
   "id": "cfdb0b12-ad76-47c5-b691-f40fbf9541d2",
   "metadata": {
    "id": "MZtsWa3yJ10R"
   },
   "outputs": [],
   "source": [
    "silhouette = f.silhouette(dataset,labels,centers)"
   ]
  },
  {
   "cell_type": "code",
   "execution_count": null,
   "id": "ae2921d9-a0ea-4627-9edc-b6ca2cf22d3e",
   "metadata": {
    "colab": {
     "base_uri": "https://localhost:8080/",
     "height": 499
    },
    "id": "gTKfWriRc4sQ",
    "outputId": "aa415db8-454e-496a-93ca-8bda3e5d09a8"
   },
   "outputs": [
    {
     "data": {
      "image/png": "[encoded data removed]",
      "text/plain": [
       "<Figure size 1152x576 with 1 Axes>"
      ]
     },
     "metadata": {
      "needs_background": "light"
     },
     "output_type": "display_data"
    }
   ],
   "source": [
    "import matplotlib.pyplot as plt\n",
    "import numpy as np\n",
    "\n",
    "x = []\n",
    "\n",
    "for i in range(2,26):\n",
    "    x.append(i)\n",
    "\n",
    "\n",
    "plt.figure(figsize=(16,8))\n",
    "plt.plot(x, silhouette, 'o-', linewidth=2, color='blue')\n",
    "plt.title('Scree Plot')\n",
    "plt.xlim((1,26))\n",
    "plt.show()"
   ]
  },
  {
   "cell_type": "markdown",
   "id": "ef9ad18f-c274-4892-8e74-13051cfd24b4",
   "metadata": {
    "id": "z9rOOcXAM2jv"
   },
   "source": [
    "The silhouette ranges from −1 to +1, where a high value indicates that the object is well matched to its own cluster and poorly matched to neighboring clusters. If most objects have a high value, then the clustering configuration is appropriate. Whenever the value tends to -1 we are in the opposite situation. In this particular case we do not have negative S values for any level of K but we still have small values that do not indicate a level of K which we can define optimal."
   ]
  },
  {
   "cell_type": "markdown",
   "id": "b1e3942b-7df2-4e3f-9e05-45b30266c2e1",
   "metadata": {
    "id": "RqCHCLQ6Uvd_"
   },
   "source": [
    "Given the above explanations we decided to continue the implementation with k = 10"
   ]
  },
  {
   "cell_type": "code",
   "execution_count": null,
   "id": "2de52bd1-66be-410b-b550-d00a18b9c078",
   "metadata": {
    "colab": {
     "base_uri": "https://localhost:8080/",
     "height": 430
    },
    "id": "j6IJ9Tc5WkV4",
    "outputId": "077f3483-b44b-4240-fbed-b877ad50ff7d"
   },
   "outputs": [
    {
     "name": "stderr",
     "output_type": "stream",
     "text": [
      "No handles with labels found to put in legend.\n"
     ]
    },
    {
     "data": {
      "image/png": "[encoded data removed]",
      "text/plain": [
       "<Figure size 960x480 with 1 Axes>"
      ]
     },
     "metadata": {
      "needs_background": "light"
     },
     "output_type": "display_data"
    }
   ],
   "source": [
    "d = dataset.to_numpy()\n",
    "\n",
    "figure(figsize = (12, 6), dpi = 80)\n",
    "\n",
    "u_labels = np.unique(labels[8])\n",
    "\n",
    "for i in u_labels:\n",
    "\n",
    "    plt.scatter(d[labels[8] == i , 0] , d[labels[8] == i , 1] , alpha=0.8)\n",
    "\n",
    "plt.legend()\n",
    "\n",
    "plt.show()"
   ]
  },
  {
   "cell_type": "markdown",
   "id": "1aa6b84e-a97b-4b61-a594-5a21ce940d9f",
   "metadata": {
    "id": "ukatyC2BJb-0"
   },
   "source": [
    "####  k-means++ (from the scikit-learn library)."
   ]
  },
  {
   "cell_type": "code",
   "execution_count": null,
   "id": "5f0f29ee-0ab2-4793-8703-abf885ec164b",
   "metadata": {
    "colab": {
     "base_uri": "https://localhost:8080/",
     "height": 462
    },
    "id": "o8NRDZd-Wuxl",
    "outputId": "060b3fba-2c43-49de-8dc6-69c8a4fb1fb3"
   },
   "outputs": [
    {
     "data": {
      "image/png": "[encoded data removed]",
      "text/plain": [
       "<Figure size 960x480 with 1 Axes>"
      ]
     },
     "metadata": {},
     "output_type": "display_data"
    },
    {
     "data": {
      "text/plain": [
       "<matplotlib.axes._subplots.AxesSubplot at 0x7fdd5093da90>"
      ]
     },
     "execution_count": 37,
     "metadata": {},
     "output_type": "execute_result"
    }
   ],
   "source": [
    "## Metric = Distortion \n",
    "\n",
    "figure(figsize = (12, 6), dpi = 80)\n",
    "\n",
    "model = KMeans(init = 'k-means++')\n",
    "\n",
    "visualizer = KElbowVisualizer(model, k = (2,20), metric = 'distortion', timings = False)\n",
    "\n",
    "visualizer.fit(d)\n",
    "\n",
    "visualizer.show()"
   ]
  },
  {
   "cell_type": "markdown",
   "id": "01c5ef7f-34d3-426c-81b0-75c054d9a506",
   "metadata": {
    "id": "zbAXY-vNX1A9"
   },
   "source": [
    "Also in this specific case the first criterion we take into consideration is that of the \"Elbow\". The results obtained do not differ much from those obtained with the function implemented by us in fact the optimal K in this case is equal to 11 while in the previous case when we used the function implemented by us was equal to 10."
   ]
  },
  {
   "cell_type": "code",
   "execution_count": null,
   "id": "a93c9a38-3052-4608-9fd3-b19d3563a298",
   "metadata": {
    "colab": {
     "base_uri": "https://localhost:8080/",
     "height": 462
    },
    "id": "sRahcUbIZ7fp",
    "outputId": "a8c53077-8661-487d-94ef-662dce369775"
   },
   "outputs": [
    {
     "data": {
      "image/png": "[encoded data removed]",
      "text/plain": [
       "<Figure size 960x480 with 1 Axes>"
      ]
     },
     "metadata": {},
     "output_type": "display_data"
    },
    {
     "data": {
      "text/plain": [
       "<matplotlib.axes._subplots.AxesSubplot at 0x7fdd5d615dd0>"
      ]
     },
     "execution_count": 39,
     "metadata": {},
     "output_type": "execute_result"
    }
   ],
   "source": [
    "## Metric = silhouette \n",
    "\n",
    "figure(figsize = (12, 6), dpi = 80)\n",
    "\n",
    "model = KMeans(init = 'k-means++')\n",
    "\n",
    "visualizer = KElbowVisualizer(model, k = (2,20), metric = 'silhouette', timings = False)\n",
    "\n",
    "visualizer.fit(d)\n",
    "\n",
    "visualizer.show()"
   ]
  },
  {
   "cell_type": "markdown",
   "id": "3025a297-3ccb-4544-87de-ba14a07c953f",
   "metadata": {
    "id": "SkT5KayBX7Lh"
   },
   "source": [
    "The second criterion used is the silhouette score. Even here the results are very similar to those obtained previously, the values of the score S are never negative but they are still very low and do not indicate us a K to be able to define optimal."
   ]
  },
  {
   "cell_type": "code",
   "execution_count": null,
   "id": "4495d8f0-59cf-48b6-bd9e-d14df6bf588a",
   "metadata": {
    "colab": {
     "base_uri": "https://localhost:8080/",
     "height": 462
    },
    "id": "rBVeqlXCZpeH",
    "outputId": "8edb2a8d-7c52-4c10-cca3-963643401550"
   },
   "outputs": [
    {
     "data": {
      "image/png": "[encoded data removed]",
      "text/plain": [
       "<Figure size 960x480 with 1 Axes>"
      ]
     },
     "metadata": {},
     "output_type": "display_data"
    },
    {
     "data": {
      "text/plain": [
       "<matplotlib.axes._subplots.AxesSubplot at 0x7fdd5097bc50>"
      ]
     },
     "execution_count": 38,
     "metadata": {},
     "output_type": "execute_result"
    }
   ],
   "source": [
    "## Metric = 'calinski_harabasz'\n",
    "\n",
    "figure(figsize = (12, 6), dpi = 80)\n",
    "\n",
    "model = KMeans(init = 'k-means++')\n",
    "\n",
    "visualizer = KElbowVisualizer(model, k = (2,20), metric = 'calinski_harabasz', timings = False)\n",
    "\n",
    "visualizer.fit(d)\n",
    "\n",
    "visualizer.show()"
   ]
  },
  {
   "cell_type": "markdown",
   "id": "56b03034-93f4-4537-ad21-c5c0143bd4a9",
   "metadata": {
    "id": "_Q37sggAZcTY"
   },
   "source": [
    "For the evaluation of Kmeans ++ it has been chosen to use also another criterion that is that of 'calinski_harabasz'. According to this method the optimal K is 2 but taking such a low K we risk to end up in a situation of \"underfitting\". This is true even if you consider the graph related to the silhouette score where the best score is given by K=2. It might make more sense to choose not too extreme K values such one beetwen 10 or 11."
   ]
  },
  {
   "cell_type": "markdown",
   "id": "87787b95-c371-411f-b567-47e071f9b3e3",
   "metadata": {
    "id": "88j_5ETAMxVj"
   },
   "source": [
    "# 2.4 Analysing your results!\n",
    "Select 5-10 variables (from the ones that you had before doing the dimensionality reduction step) you think are relevant to identify the genre of a song. For example, Duration, Language, Country, etc."
   ]
  },
  {
   "cell_type": "code",
   "execution_count": null,
   "id": "1832a60f-4361-488a-a685-2356aac911b3",
   "metadata": {
    "id": "gV1rvFSpvjMX"
   },
   "outputs": [],
   "source": [
    "df3 = pd.read_csv('tracks.csv')"
   ]
  },
  {
   "cell_type": "code",
   "execution_count": null,
   "id": "93b0da1a-fdc3-45e6-b55b-022702b5e1ff",
   "metadata": {
    "id": "tF7B5h-4M91U"
   },
   "outputs": [],
   "source": [
    "#We need to know all the variables of the dataset to discover which features we need\n",
    "for col in df1.columns:\n",
    "    print(col)"
   ]
  },
  {
   "cell_type": "code",
   "execution_count": null,
   "id": "b5f7f6bc-6f46-4fb9-9de1-151fe51d8eb7",
   "metadata": {
    "colab": {
     "base_uri": "https://localhost:8080/",
     "height": 394
    },
    "id": "r0VCoXucNBmS",
    "outputId": "8d7b4867-be8e-45f7-e438-ec342a73d210"
   },
   "outputs": [
    {
     "data": {
      "text/html": [
       "<div>\n",
       "<style scoped>\n",
       "    .dataframe tbody tr th:only-of-type {\n",
       "        vertical-align: middle;\n",
       "    }\n",
       "\n",
       "    .dataframe tbody tr th {\n",
       "        vertical-align: top;\n",
       "    }\n",
       "\n",
       "    .dataframe thead th {\n",
       "        text-align: right;\n",
       "    }\n",
       "</style>\n",
       "<table border=\"1\" class=\"dataframe\">\n",
       "  <thead>\n",
       "    <tr style=\"text-align: right;\">\n",
       "      <th></th>\n",
       "      <th>Acousticness</th>\n",
       "      <th>Danceability</th>\n",
       "      <th>Energy</th>\n",
       "      <th>Instrumentalness</th>\n",
       "      <th>Liveness</th>\n",
       "      <th>Speechiness</th>\n",
       "      <th>Valence</th>\n",
       "    </tr>\n",
       "  </thead>\n",
       "  <tbody>\n",
       "    <tr>\n",
       "      <th>0</th>\n",
       "      <td>0.416675</td>\n",
       "      <td>0.675894</td>\n",
       "      <td>0.634476</td>\n",
       "      <td>0.010628</td>\n",
       "      <td>0.177647</td>\n",
       "      <td>0.159310</td>\n",
       "      <td>0.576661</td>\n",
       "    </tr>\n",
       "    <tr>\n",
       "      <th>1</th>\n",
       "      <td>0.374408</td>\n",
       "      <td>0.528643</td>\n",
       "      <td>0.817461</td>\n",
       "      <td>0.001851</td>\n",
       "      <td>0.105880</td>\n",
       "      <td>0.461818</td>\n",
       "      <td>0.269240</td>\n",
       "    </tr>\n",
       "    <tr>\n",
       "      <th>2</th>\n",
       "      <td>0.043567</td>\n",
       "      <td>0.745566</td>\n",
       "      <td>0.701470</td>\n",
       "      <td>0.000697</td>\n",
       "      <td>0.373143</td>\n",
       "      <td>0.124595</td>\n",
       "      <td>0.621661</td>\n",
       "    </tr>\n",
       "    <tr>\n",
       "      <th>3</th>\n",
       "      <td>0.951670</td>\n",
       "      <td>0.658179</td>\n",
       "      <td>0.924525</td>\n",
       "      <td>0.965427</td>\n",
       "      <td>0.115474</td>\n",
       "      <td>0.032985</td>\n",
       "      <td>0.963590</td>\n",
       "    </tr>\n",
       "    <tr>\n",
       "      <th>4</th>\n",
       "      <td>0.452217</td>\n",
       "      <td>0.513238</td>\n",
       "      <td>0.560410</td>\n",
       "      <td>0.019443</td>\n",
       "      <td>0.096567</td>\n",
       "      <td>0.525519</td>\n",
       "      <td>0.894072</td>\n",
       "    </tr>\n",
       "    <tr>\n",
       "      <th>5</th>\n",
       "      <td>0.106550</td>\n",
       "      <td>0.260911</td>\n",
       "      <td>0.607067</td>\n",
       "      <td>0.835087</td>\n",
       "      <td>0.223676</td>\n",
       "      <td>0.030569</td>\n",
       "      <td>0.160267</td>\n",
       "    </tr>\n",
       "    <tr>\n",
       "      <th>6</th>\n",
       "      <td>0.376312</td>\n",
       "      <td>0.734079</td>\n",
       "      <td>0.265685</td>\n",
       "      <td>0.669581</td>\n",
       "      <td>0.085995</td>\n",
       "      <td>0.039068</td>\n",
       "      <td>0.609991</td>\n",
       "    </tr>\n",
       "    <tr>\n",
       "      <th>7</th>\n",
       "      <td>0.963657</td>\n",
       "      <td>0.435933</td>\n",
       "      <td>0.075632</td>\n",
       "      <td>0.345493</td>\n",
       "      <td>0.105686</td>\n",
       "      <td>0.026658</td>\n",
       "      <td>0.163950</td>\n",
       "    </tr>\n",
       "    <tr>\n",
       "      <th>8</th>\n",
       "      <td>0.662881</td>\n",
       "      <td>0.379065</td>\n",
       "      <td>0.823856</td>\n",
       "      <td>0.910266</td>\n",
       "      <td>0.088705</td>\n",
       "      <td>0.079090</td>\n",
       "      <td>0.092868</td>\n",
       "    </tr>\n",
       "    <tr>\n",
       "      <th>9</th>\n",
       "      <td>0.909011</td>\n",
       "      <td>0.443643</td>\n",
       "      <td>0.641997</td>\n",
       "      <td>0.924092</td>\n",
       "      <td>0.267669</td>\n",
       "      <td>0.089659</td>\n",
       "      <td>0.788251</td>\n",
       "    </tr>\n",
       "    <tr>\n",
       "      <th>10</th>\n",
       "      <td>0.235506</td>\n",
       "      <td>0.438672</td>\n",
       "      <td>0.487752</td>\n",
       "      <td>0.716122</td>\n",
       "      <td>0.070359</td>\n",
       "      <td>0.047298</td>\n",
       "      <td>0.650452</td>\n",
       "    </tr>\n",
       "  </tbody>\n",
       "</table>\n",
       "</div>"
      ],
      "text/plain": [
       "    Acousticness  Danceability    Energy  ...  Liveness  Speechiness   Valence\n",
       "0       0.416675      0.675894  0.634476  ...  0.177647     0.159310  0.576661\n",
       "1       0.374408      0.528643  0.817461  ...  0.105880     0.461818  0.269240\n",
       "2       0.043567      0.745566  0.701470  ...  0.373143     0.124595  0.621661\n",
       "3       0.951670      0.658179  0.924525  ...  0.115474     0.032985  0.963590\n",
       "4       0.452217      0.513238  0.560410  ...  0.096567     0.525519  0.894072\n",
       "5       0.106550      0.260911  0.607067  ...  0.223676     0.030569  0.160267\n",
       "6       0.376312      0.734079  0.265685  ...  0.085995     0.039068  0.609991\n",
       "7       0.963657      0.435933  0.075632  ...  0.105686     0.026658  0.163950\n",
       "8       0.662881      0.379065  0.823856  ...  0.088705     0.079090  0.092868\n",
       "9       0.909011      0.443643  0.641997  ...  0.267669     0.089659  0.788251\n",
       "10      0.235506      0.438672  0.487752  ...  0.070359     0.047298  0.650452\n",
       "\n",
       "[11 rows x 7 columns]"
      ]
     },
     "execution_count": 23,
     "metadata": {},
     "output_type": "execute_result"
    }
   ],
   "source": [
    "#We are gonna take all the variables regarding the sound of every song\n",
    "Identifiers = df1[['audio_features_acousticness','audio_features_danceability',\n",
    "                   'audio_features_energy','audio_features_instrumentalness','audio_features_liveness', \n",
    "                   'audio_features_speechiness', 'audio_features_valence']]\n",
    "\n",
    "#Let's give a cleaner look to the data!\n",
    "Identifiers = Identifiers.rename(columns={'audio_features_acousticness':'Acousticness', 'audio_features_danceability':'Danceability',\n",
    "                           'audio_features_energy':'Energy', 'audio_features_instrumentalness':'Instrumentalness', \n",
    "                           'audio_features_liveness': 'Liveness', 'audio_features_speechiness':'Speechiness', \n",
    "                           'audio_features_valence':'Valence'})\n",
    "Identifiers.head(11)"
   ]
  },
  {
   "cell_type": "markdown",
   "id": "e5fc8e49-6088-4b5c-a719-834fbdd9d659",
   "metadata": {
    "id": "6sRgg9qxNHBO"
   },
   "source": [
    "On the web we found that the variables have the following meanings:\n",
    "\n",
    "**Acousticness** describes how acoustic a song is. \n",
    "\n",
    "**Danceability** describes how suitable a track is for dancing based on a combination of musical elements including tempo, rhythm stability, beat strength, and overall regularity.\n",
    "\n",
    "**Energy** represents a perceptual measure of intensity and activity. Typically, energetic tracks feel fast, loud, and noisy.\n",
    "\n",
    "**Instrumentalness** represents the amount of vocals in the song.\n",
    "\n",
    "**Liveness** describes the probability that the song was recorded with a live audience.\n",
    "\n",
    "**Speechiness** detects the presence of spoken words in a track.\n",
    "\n",
    "**Valence** represents the musical positiveness conveyed by a track.\n"
   ]
  },
  {
   "cell_type": "code",
   "execution_count": null,
   "id": "ef9ccb67-36e1-4a11-8aaf-2cc89b14eeb2",
   "metadata": {
    "colab": {
     "base_uri": "https://localhost:8080/"
    },
    "id": "Qss65EovNHqa",
    "outputId": "718c7634-4f44-4b6b-a202-57ccec443667"
   },
   "outputs": [
    {
     "data": {
      "text/plain": [
       "(Acousticness        9.035000e-07\n",
       " Danceability        5.130749e-02\n",
       " Energy              2.016590e-05\n",
       " Instrumentalness    0.000000e+00\n",
       " Liveness            2.529734e-02\n",
       " Speechiness         2.232367e-02\n",
       " Valence             1.000000e-05\n",
       " dtype: float64, Acousticness        0.995796\n",
       " Danceability        0.968645\n",
       " Energy              0.999964\n",
       " Instrumentalness    0.998016\n",
       " Liveness            0.980330\n",
       " Speechiness         0.966177\n",
       " Valence             0.999990\n",
       " dtype: float64)"
      ]
     },
     "execution_count": 24,
     "metadata": {},
     "output_type": "execute_result"
    }
   ],
   "source": [
    "#Now we want to observe if all the features are already standardized.\n",
    "Identifiers.min(), Identifiers.max()\n",
    "#as we can see, all the values are between 0 and 1: we don't need to standardize the variables"
   ]
  },
  {
   "cell_type": "markdown",
   "id": "a52bda90-917e-4517-9769-9e95a906eee3",
   "metadata": {
    "id": "DRfmGCPPNPyo"
   },
   "source": [
    "If any of your selected variables are numerical (continuous or discrete), then categorize them into 4 categories"
   ]
  },
  {
   "cell_type": "code",
   "execution_count": null,
   "id": "920d6be1-2381-4f4d-8d83-db815a382ab8",
   "metadata": {
    "id": "nE9VPi4sNLGr"
   },
   "outputs": [],
   "source": [
    "#CATEGORIZATION OF DATA\n",
    "for i in range(len(Identifiers)):\n",
    "    for j in range(len(Identifiers.columns)):\n",
    "        if (Identifiers.values[i][j]<0.25):\n",
    "            Identifiers.values[i][j] = 1\n",
    "        elif (Identifiers.values[i][j]>=0.25) & (Identifiers.values[i][j]<0.5):\n",
    "            Identifiers.values[i][j] = 2\n",
    "        elif (Identifiers.values[i][j]>=0.5) & (Identifiers.values[i][j]<0.75):\n",
    "            Identifiers.values[i][j] = 3\n",
    "        else:\n",
    "            Identifiers.values[i][j] = 4"
   ]
  },
  {
   "cell_type": "markdown",
   "id": "d18a0f6b-ceee-4aad-8015-020ceabf042b",
   "metadata": {
    "id": "p5c_gOQANUke"
   },
   "source": [
    "With the selected variables, perform pivot tables. On the horizontal axis, you will have the clusters, and on the vertical axis, you will have the categories of each variable. Notice that you have to do one pivot table per variable."
   ]
  },
  {
   "cell_type": "code",
   "execution_count": null,
   "id": "893385c9-f773-4c0a-bc13-2d11a9265f5f",
   "metadata": {
    "colab": {
     "base_uri": "https://localhost:8080/",
     "height": 394
    },
    "id": "tQ7BYtmYNY04",
    "outputId": "cbb90e4f-e239-433f-ce9b-247c10f71e96"
   },
   "outputs": [
    {
     "data": {
      "text/html": [
       "<div>\n",
       "<style scoped>\n",
       "    .dataframe tbody tr th:only-of-type {\n",
       "        vertical-align: middle;\n",
       "    }\n",
       "\n",
       "    .dataframe tbody tr th {\n",
       "        vertical-align: top;\n",
       "    }\n",
       "\n",
       "    .dataframe thead th {\n",
       "        text-align: right;\n",
       "    }\n",
       "</style>\n",
       "<table border=\"1\" class=\"dataframe\">\n",
       "  <thead>\n",
       "    <tr style=\"text-align: right;\">\n",
       "      <th></th>\n",
       "      <th>Acousticness</th>\n",
       "      <th>Danceability</th>\n",
       "      <th>Energy</th>\n",
       "      <th>Instrumentalness</th>\n",
       "      <th>Liveness</th>\n",
       "      <th>Speechiness</th>\n",
       "      <th>Valence</th>\n",
       "      <th>#Cluster</th>\n",
       "    </tr>\n",
       "  </thead>\n",
       "  <tbody>\n",
       "    <tr>\n",
       "      <th>0</th>\n",
       "      <td>2.0</td>\n",
       "      <td>3.0</td>\n",
       "      <td>3.0</td>\n",
       "      <td>1.0</td>\n",
       "      <td>1.0</td>\n",
       "      <td>1.0</td>\n",
       "      <td>3.0</td>\n",
       "      <td>10</td>\n",
       "    </tr>\n",
       "    <tr>\n",
       "      <th>1</th>\n",
       "      <td>2.0</td>\n",
       "      <td>3.0</td>\n",
       "      <td>4.0</td>\n",
       "      <td>1.0</td>\n",
       "      <td>1.0</td>\n",
       "      <td>2.0</td>\n",
       "      <td>2.0</td>\n",
       "      <td>10</td>\n",
       "    </tr>\n",
       "    <tr>\n",
       "      <th>2</th>\n",
       "      <td>1.0</td>\n",
       "      <td>3.0</td>\n",
       "      <td>3.0</td>\n",
       "      <td>1.0</td>\n",
       "      <td>2.0</td>\n",
       "      <td>1.0</td>\n",
       "      <td>3.0</td>\n",
       "      <td>10</td>\n",
       "    </tr>\n",
       "    <tr>\n",
       "      <th>3</th>\n",
       "      <td>4.0</td>\n",
       "      <td>3.0</td>\n",
       "      <td>4.0</td>\n",
       "      <td>4.0</td>\n",
       "      <td>1.0</td>\n",
       "      <td>1.0</td>\n",
       "      <td>4.0</td>\n",
       "      <td>1</td>\n",
       "    </tr>\n",
       "    <tr>\n",
       "      <th>4</th>\n",
       "      <td>2.0</td>\n",
       "      <td>3.0</td>\n",
       "      <td>3.0</td>\n",
       "      <td>1.0</td>\n",
       "      <td>1.0</td>\n",
       "      <td>3.0</td>\n",
       "      <td>4.0</td>\n",
       "      <td>5</td>\n",
       "    </tr>\n",
       "    <tr>\n",
       "      <th>5</th>\n",
       "      <td>1.0</td>\n",
       "      <td>2.0</td>\n",
       "      <td>3.0</td>\n",
       "      <td>4.0</td>\n",
       "      <td>1.0</td>\n",
       "      <td>1.0</td>\n",
       "      <td>1.0</td>\n",
       "      <td>1</td>\n",
       "    </tr>\n",
       "    <tr>\n",
       "      <th>6</th>\n",
       "      <td>2.0</td>\n",
       "      <td>3.0</td>\n",
       "      <td>2.0</td>\n",
       "      <td>3.0</td>\n",
       "      <td>1.0</td>\n",
       "      <td>1.0</td>\n",
       "      <td>3.0</td>\n",
       "      <td>8</td>\n",
       "    </tr>\n",
       "    <tr>\n",
       "      <th>7</th>\n",
       "      <td>4.0</td>\n",
       "      <td>2.0</td>\n",
       "      <td>1.0</td>\n",
       "      <td>2.0</td>\n",
       "      <td>1.0</td>\n",
       "      <td>1.0</td>\n",
       "      <td>1.0</td>\n",
       "      <td>7</td>\n",
       "    </tr>\n",
       "    <tr>\n",
       "      <th>8</th>\n",
       "      <td>3.0</td>\n",
       "      <td>2.0</td>\n",
       "      <td>4.0</td>\n",
       "      <td>4.0</td>\n",
       "      <td>1.0</td>\n",
       "      <td>1.0</td>\n",
       "      <td>1.0</td>\n",
       "      <td>8</td>\n",
       "    </tr>\n",
       "    <tr>\n",
       "      <th>9</th>\n",
       "      <td>4.0</td>\n",
       "      <td>2.0</td>\n",
       "      <td>3.0</td>\n",
       "      <td>4.0</td>\n",
       "      <td>2.0</td>\n",
       "      <td>1.0</td>\n",
       "      <td>4.0</td>\n",
       "      <td>1</td>\n",
       "    </tr>\n",
       "    <tr>\n",
       "      <th>10</th>\n",
       "      <td>1.0</td>\n",
       "      <td>2.0</td>\n",
       "      <td>2.0</td>\n",
       "      <td>3.0</td>\n",
       "      <td>1.0</td>\n",
       "      <td>1.0</td>\n",
       "      <td>3.0</td>\n",
       "      <td>10</td>\n",
       "    </tr>\n",
       "  </tbody>\n",
       "</table>\n",
       "</div>"
      ],
      "text/plain": [
       "    Acousticness  Danceability  Energy  ...  Speechiness  Valence  #Cluster\n",
       "0            2.0           3.0     3.0  ...          1.0      3.0        10\n",
       "1            2.0           3.0     4.0  ...          2.0      2.0        10\n",
       "2            1.0           3.0     3.0  ...          1.0      3.0        10\n",
       "3            4.0           3.0     4.0  ...          1.0      4.0         1\n",
       "4            2.0           3.0     3.0  ...          3.0      4.0         5\n",
       "5            1.0           2.0     3.0  ...          1.0      1.0         1\n",
       "6            2.0           3.0     2.0  ...          1.0      3.0         8\n",
       "7            4.0           2.0     1.0  ...          1.0      1.0         7\n",
       "8            3.0           2.0     4.0  ...          1.0      1.0         8\n",
       "9            4.0           2.0     3.0  ...          1.0      4.0         1\n",
       "10           1.0           2.0     2.0  ...          1.0      3.0        10\n",
       "\n",
       "[11 rows x 8 columns]"
      ]
     },
     "execution_count": 26,
     "metadata": {},
     "output_type": "execute_result"
    }
   ],
   "source": [
    "labels_10 = labels[8] + 1\n",
    "Identifiers['#Cluster'] = labels_10\n",
    "Identifiers.head(11)"
   ]
  },
  {
   "cell_type": "markdown",
   "id": "3eba3985-7f8f-4c4a-8068-177e11e96833",
   "metadata": {
    "id": "Degc-O6DNsWZ"
   },
   "source": [
    "Calculate the percentage by column for each pivot table. It means that the sum of each column (cluster) must be 1.\n",
    "\n",
    "Interpret the values for each pivot table\n",
    "\n"
   ]
  },
  {
   "cell_type": "code",
   "execution_count": null,
   "id": "3c0a54c4-56b0-41e5-bf1d-e6834bfe4c95",
   "metadata": {
    "colab": {
     "base_uri": "https://localhost:8080/",
     "height": 206
    },
    "id": "nxnlonQqNsfb",
    "outputId": "e4dcca73-cbf6-4284-df14-2753daccfcd8"
   },
   "outputs": [
    {
     "data": {
      "text/html": [
       "<div>\n",
       "<style scoped>\n",
       "    .dataframe tbody tr th:only-of-type {\n",
       "        vertical-align: middle;\n",
       "    }\n",
       "\n",
       "    .dataframe tbody tr th {\n",
       "        vertical-align: top;\n",
       "    }\n",
       "\n",
       "    .dataframe thead th {\n",
       "        text-align: right;\n",
       "    }\n",
       "</style>\n",
       "<table border=\"1\" class=\"dataframe\">\n",
       "  <thead>\n",
       "    <tr style=\"text-align: right;\">\n",
       "      <th>#Cluster</th>\n",
       "      <th>1</th>\n",
       "      <th>2</th>\n",
       "      <th>3</th>\n",
       "      <th>4</th>\n",
       "      <th>5</th>\n",
       "      <th>6</th>\n",
       "      <th>7</th>\n",
       "      <th>8</th>\n",
       "      <th>9</th>\n",
       "      <th>10</th>\n",
       "    </tr>\n",
       "    <tr>\n",
       "      <th>Acousticness</th>\n",
       "      <th></th>\n",
       "      <th></th>\n",
       "      <th></th>\n",
       "      <th></th>\n",
       "      <th></th>\n",
       "      <th></th>\n",
       "      <th></th>\n",
       "      <th></th>\n",
       "      <th></th>\n",
       "      <th></th>\n",
       "    </tr>\n",
       "  </thead>\n",
       "  <tbody>\n",
       "    <tr>\n",
       "      <th>1.0</th>\n",
       "      <td>42.39</td>\n",
       "      <td>0.77</td>\n",
       "      <td>11.57</td>\n",
       "      <td>69.61</td>\n",
       "      <td>42.88</td>\n",
       "      <td>0.0</td>\n",
       "      <td>2.55</td>\n",
       "      <td>14.39</td>\n",
       "      <td>41.19</td>\n",
       "      <td>43.06</td>\n",
       "    </tr>\n",
       "    <tr>\n",
       "      <th>2.0</th>\n",
       "      <td>11.59</td>\n",
       "      <td>0.00</td>\n",
       "      <td>6.02</td>\n",
       "      <td>14.75</td>\n",
       "      <td>16.62</td>\n",
       "      <td>0.0</td>\n",
       "      <td>3.21</td>\n",
       "      <td>10.09</td>\n",
       "      <td>12.22</td>\n",
       "      <td>18.81</td>\n",
       "    </tr>\n",
       "    <tr>\n",
       "      <th>3.0</th>\n",
       "      <td>14.26</td>\n",
       "      <td>0.19</td>\n",
       "      <td>7.87</td>\n",
       "      <td>9.65</td>\n",
       "      <td>14.25</td>\n",
       "      <td>0.0</td>\n",
       "      <td>4.53</td>\n",
       "      <td>15.84</td>\n",
       "      <td>14.27</td>\n",
       "      <td>17.73</td>\n",
       "    </tr>\n",
       "    <tr>\n",
       "      <th>4.0</th>\n",
       "      <td>31.76</td>\n",
       "      <td>99.04</td>\n",
       "      <td>74.54</td>\n",
       "      <td>6.00</td>\n",
       "      <td>26.25</td>\n",
       "      <td>100.0</td>\n",
       "      <td>89.71</td>\n",
       "      <td>59.67</td>\n",
       "      <td>32.32</td>\n",
       "      <td>20.40</td>\n",
       "    </tr>\n",
       "  </tbody>\n",
       "</table>\n",
       "</div>"
      ],
      "text/plain": [
       "#Cluster         1      2      3      4   ...     7      8      9      10\n",
       "Acousticness                              ...                            \n",
       "1.0           42.39   0.77  11.57  69.61  ...   2.55  14.39  41.19  43.06\n",
       "2.0           11.59   0.00   6.02  14.75  ...   3.21  10.09  12.22  18.81\n",
       "3.0           14.26   0.19   7.87   9.65  ...   4.53  15.84  14.27  17.73\n",
       "4.0           31.76  99.04  74.54   6.00  ...  89.71  59.67  32.32  20.40\n",
       "\n",
       "[4 rows x 10 columns]"
      ]
     },
     "execution_count": 27,
     "metadata": {},
     "output_type": "execute_result"
    }
   ],
   "source": [
    "round(pd.crosstab(index=Identifiers['Acousticness'], columns=Identifiers['#Cluster'], normalize='columns')*100, 2)"
   ]
  },
  {
   "cell_type": "markdown",
   "id": "ad697177-8517-4f35-aaae-8c4c0352acf9",
   "metadata": {
    "id": "rxfUAQy9mTdH"
   },
   "source": [
    "The acousticness is typical of \"genuine\" music (music without electronic or artificial sounds). \n",
    "\n",
    "The table shows that the clusters 2, 3, 6 and 7 have a big acoustic component, so these groups may represent classic music or historical music."
   ]
  },
  {
   "cell_type": "code",
   "execution_count": null,
   "id": "700c59b2-f218-4bad-ab3e-baca33aa944d",
   "metadata": {
    "colab": {
     "base_uri": "https://localhost:8080/",
     "height": 206
    },
    "id": "f8V49GP4N0sW",
    "outputId": "a575462f-87a0-45b8-e0f9-d46f8427be2d"
   },
   "outputs": [
    {
     "data": {
      "text/html": [
       "<div>\n",
       "<style scoped>\n",
       "    .dataframe tbody tr th:only-of-type {\n",
       "        vertical-align: middle;\n",
       "    }\n",
       "\n",
       "    .dataframe tbody tr th {\n",
       "        vertical-align: top;\n",
       "    }\n",
       "\n",
       "    .dataframe thead th {\n",
       "        text-align: right;\n",
       "    }\n",
       "</style>\n",
       "<table border=\"1\" class=\"dataframe\">\n",
       "  <thead>\n",
       "    <tr style=\"text-align: right;\">\n",
       "      <th>#Cluster</th>\n",
       "      <th>1</th>\n",
       "      <th>2</th>\n",
       "      <th>3</th>\n",
       "      <th>4</th>\n",
       "      <th>5</th>\n",
       "      <th>6</th>\n",
       "      <th>7</th>\n",
       "      <th>8</th>\n",
       "      <th>9</th>\n",
       "      <th>10</th>\n",
       "    </tr>\n",
       "    <tr>\n",
       "      <th>Danceability</th>\n",
       "      <th></th>\n",
       "      <th></th>\n",
       "      <th></th>\n",
       "      <th></th>\n",
       "      <th></th>\n",
       "      <th></th>\n",
       "      <th></th>\n",
       "      <th></th>\n",
       "      <th></th>\n",
       "      <th></th>\n",
       "    </tr>\n",
       "  </thead>\n",
       "  <tbody>\n",
       "    <tr>\n",
       "      <th>1.0</th>\n",
       "      <td>21.89</td>\n",
       "      <td>16.38</td>\n",
       "      <td>30.09</td>\n",
       "      <td>2.89</td>\n",
       "      <td>1.03</td>\n",
       "      <td>100.0</td>\n",
       "      <td>14.92</td>\n",
       "      <td>10.24</td>\n",
       "      <td>30.27</td>\n",
       "      <td>4.55</td>\n",
       "    </tr>\n",
       "    <tr>\n",
       "      <th>2.0</th>\n",
       "      <td>56.29</td>\n",
       "      <td>58.00</td>\n",
       "      <td>43.06</td>\n",
       "      <td>23.09</td>\n",
       "      <td>18.93</td>\n",
       "      <td>0.0</td>\n",
       "      <td>54.11</td>\n",
       "      <td>45.06</td>\n",
       "      <td>46.05</td>\n",
       "      <td>30.53</td>\n",
       "    </tr>\n",
       "    <tr>\n",
       "      <th>3.0</th>\n",
       "      <td>21.13</td>\n",
       "      <td>24.47</td>\n",
       "      <td>24.54</td>\n",
       "      <td>50.31</td>\n",
       "      <td>50.26</td>\n",
       "      <td>0.0</td>\n",
       "      <td>28.71</td>\n",
       "      <td>41.66</td>\n",
       "      <td>19.78</td>\n",
       "      <td>51.74</td>\n",
       "    </tr>\n",
       "    <tr>\n",
       "      <th>4.0</th>\n",
       "      <td>0.68</td>\n",
       "      <td>1.16</td>\n",
       "      <td>2.31</td>\n",
       "      <td>23.71</td>\n",
       "      <td>29.78</td>\n",
       "      <td>0.0</td>\n",
       "      <td>2.27</td>\n",
       "      <td>3.04</td>\n",
       "      <td>3.89</td>\n",
       "      <td>13.18</td>\n",
       "    </tr>\n",
       "  </tbody>\n",
       "</table>\n",
       "</div>"
      ],
      "text/plain": [
       "#Cluster         1      2      3      4   ...     7      8      9      10\n",
       "Danceability                              ...                            \n",
       "1.0           21.89  16.38  30.09   2.89  ...  14.92  10.24  30.27   4.55\n",
       "2.0           56.29  58.00  43.06  23.09  ...  54.11  45.06  46.05  30.53\n",
       "3.0           21.13  24.47  24.54  50.31  ...  28.71  41.66  19.78  51.74\n",
       "4.0            0.68   1.16   2.31  23.71  ...   2.27   3.04   3.89  13.18\n",
       "\n",
       "[4 rows x 10 columns]"
      ]
     },
     "execution_count": 28,
     "metadata": {},
     "output_type": "execute_result"
    }
   ],
   "source": [
    "round(pd.crosstab(index=Identifiers['Danceability'], columns=Identifiers['#Cluster'], normalize='columns')*100, 2)"
   ]
  },
  {
   "cell_type": "markdown",
   "id": "17638752-ce09-44d1-a345-374265a7727c",
   "metadata": {
    "id": "3mFA8D9nyCzP"
   },
   "source": [
    "Danceability measures how much a song makes people dance. We don't observe particularly high values, but every cluster have low values in high and medium-high danceability, expecially the clusters 1,2,3,7,8 and 9.\n",
    "\n",
    "It may be useful to strengthen our previous hypothesis on the genre of clusters 2,3,7."
   ]
  },
  {
   "cell_type": "code",
   "execution_count": null,
   "id": "ccfd1974-c50e-4bc9-a57d-6eefd8534c2e",
   "metadata": {
    "colab": {
     "base_uri": "https://localhost:8080/",
     "height": 206
    },
    "id": "19QZ6_AhN2vD",
    "outputId": "2cc636be-ec97-4022-9216-dec7cd33ed34"
   },
   "outputs": [
    {
     "data": {
      "text/html": [
       "<div>\n",
       "<style scoped>\n",
       "    .dataframe tbody tr th:only-of-type {\n",
       "        vertical-align: middle;\n",
       "    }\n",
       "\n",
       "    .dataframe tbody tr th {\n",
       "        vertical-align: top;\n",
       "    }\n",
       "\n",
       "    .dataframe thead th {\n",
       "        text-align: right;\n",
       "    }\n",
       "</style>\n",
       "<table border=\"1\" class=\"dataframe\">\n",
       "  <thead>\n",
       "    <tr style=\"text-align: right;\">\n",
       "      <th>#Cluster</th>\n",
       "      <th>1</th>\n",
       "      <th>2</th>\n",
       "      <th>3</th>\n",
       "      <th>4</th>\n",
       "      <th>5</th>\n",
       "      <th>6</th>\n",
       "      <th>7</th>\n",
       "      <th>8</th>\n",
       "      <th>9</th>\n",
       "      <th>10</th>\n",
       "      <th>11</th>\n",
       "    </tr>\n",
       "    <tr>\n",
       "      <th>Energy</th>\n",
       "      <th></th>\n",
       "      <th></th>\n",
       "      <th></th>\n",
       "      <th></th>\n",
       "      <th></th>\n",
       "      <th></th>\n",
       "      <th></th>\n",
       "      <th></th>\n",
       "      <th></th>\n",
       "      <th></th>\n",
       "      <th></th>\n",
       "    </tr>\n",
       "  </thead>\n",
       "  <tbody>\n",
       "    <tr>\n",
       "      <th>1.0</th>\n",
       "      <td>20.27</td>\n",
       "      <td>1.29</td>\n",
       "      <td>5.35</td>\n",
       "      <td>3.37</td>\n",
       "      <td>73.87</td>\n",
       "      <td>85.92</td>\n",
       "      <td>34.15</td>\n",
       "      <td>1.41</td>\n",
       "      <td>78.69</td>\n",
       "      <td>3.15</td>\n",
       "      <td>29.49</td>\n",
       "    </tr>\n",
       "    <tr>\n",
       "      <th>2.0</th>\n",
       "      <td>39.64</td>\n",
       "      <td>8.53</td>\n",
       "      <td>8.28</td>\n",
       "      <td>24.36</td>\n",
       "      <td>23.20</td>\n",
       "      <td>12.27</td>\n",
       "      <td>46.79</td>\n",
       "      <td>14.78</td>\n",
       "      <td>19.67</td>\n",
       "      <td>23.53</td>\n",
       "      <td>42.82</td>\n",
       "    </tr>\n",
       "    <tr>\n",
       "      <th>3.0</th>\n",
       "      <td>29.53</td>\n",
       "      <td>31.22</td>\n",
       "      <td>21.27</td>\n",
       "      <td>42.02</td>\n",
       "      <td>2.70</td>\n",
       "      <td>1.44</td>\n",
       "      <td>16.83</td>\n",
       "      <td>39.82</td>\n",
       "      <td>1.64</td>\n",
       "      <td>40.32</td>\n",
       "      <td>23.97</td>\n",
       "    </tr>\n",
       "    <tr>\n",
       "      <th>4.0</th>\n",
       "      <td>10.56</td>\n",
       "      <td>58.96</td>\n",
       "      <td>65.10</td>\n",
       "      <td>30.25</td>\n",
       "      <td>0.23</td>\n",
       "      <td>0.36</td>\n",
       "      <td>2.23</td>\n",
       "      <td>43.99</td>\n",
       "      <td>0.00</td>\n",
       "      <td>32.99</td>\n",
       "      <td>3.72</td>\n",
       "    </tr>\n",
       "  </tbody>\n",
       "</table>\n",
       "</div>"
      ],
      "text/plain": [
       "#Cluster     1      2      3      4      5   ...     7      8      9      10     11\n",
       "Energy                                       ...                                   \n",
       "1.0       20.27   1.29   5.35   3.37  73.87  ...  34.15   1.41  78.69   3.15  29.49\n",
       "2.0       39.64   8.53   8.28  24.36  23.20  ...  46.79  14.78  19.67  23.53  42.82\n",
       "3.0       29.53  31.22  21.27  42.02   2.70  ...  16.83  39.82   1.64  40.32  23.97\n",
       "4.0       10.56  58.96  65.10  30.25   0.23  ...   2.23  43.99   0.00  32.99   3.72\n",
       "\n",
       "[4 rows x 11 columns]"
      ]
     },
     "execution_count": 83,
     "metadata": {},
     "output_type": "execute_result"
    }
   ],
   "source": [
    "round(pd.crosstab(index=Identifiers['Energy'], columns=Identifiers['#Cluster'], normalize='columns')*100, 2)"
   ]
  },
  {
   "cell_type": "markdown",
   "id": "b2cf3adb-8d67-4da2-bfa9-107072bfd8a5",
   "metadata": {
    "id": "sjW7UxnL7bDv"
   },
   "source": [
    "The energy is very low into cluster 9 and 5, so we can suppose that genres like Rock and Pop might be less present in this cluster."
   ]
  },
  {
   "cell_type": "code",
   "execution_count": null,
   "id": "50c26c75-afbc-45fb-a4cf-4cb7dbaaee9e",
   "metadata": {
    "colab": {
     "base_uri": "https://localhost:8080/",
     "height": 206
    },
    "id": "idjIXu-sN4i4",
    "outputId": "a975e822-224f-44ac-ba7f-ed934f414bac"
   },
   "outputs": [
    {
     "data": {
      "text/html": [
       "<div>\n",
       "<style scoped>\n",
       "    .dataframe tbody tr th:only-of-type {\n",
       "        vertical-align: middle;\n",
       "    }\n",
       "\n",
       "    .dataframe tbody tr th {\n",
       "        vertical-align: top;\n",
       "    }\n",
       "\n",
       "    .dataframe thead th {\n",
       "        text-align: right;\n",
       "    }\n",
       "</style>\n",
       "<table border=\"1\" class=\"dataframe\">\n",
       "  <thead>\n",
       "    <tr style=\"text-align: right;\">\n",
       "      <th>#Cluster</th>\n",
       "      <th>1</th>\n",
       "      <th>2</th>\n",
       "      <th>3</th>\n",
       "      <th>4</th>\n",
       "      <th>5</th>\n",
       "      <th>6</th>\n",
       "      <th>7</th>\n",
       "      <th>8</th>\n",
       "      <th>9</th>\n",
       "      <th>10</th>\n",
       "      <th>11</th>\n",
       "    </tr>\n",
       "    <tr>\n",
       "      <th>Instrumentalness</th>\n",
       "      <th></th>\n",
       "      <th></th>\n",
       "      <th></th>\n",
       "      <th></th>\n",
       "      <th></th>\n",
       "      <th></th>\n",
       "      <th></th>\n",
       "      <th></th>\n",
       "      <th></th>\n",
       "      <th></th>\n",
       "      <th></th>\n",
       "    </tr>\n",
       "  </thead>\n",
       "  <tbody>\n",
       "    <tr>\n",
       "      <th>1.0</th>\n",
       "      <td>37.37</td>\n",
       "      <td>15.34</td>\n",
       "      <td>12.48</td>\n",
       "      <td>26.18</td>\n",
       "      <td>15.99</td>\n",
       "      <td>22.98</td>\n",
       "      <td>22.36</td>\n",
       "      <td>30.50</td>\n",
       "      <td>0.00</td>\n",
       "      <td>19.50</td>\n",
       "      <td>18.46</td>\n",
       "    </tr>\n",
       "    <tr>\n",
       "      <th>2.0</th>\n",
       "      <td>6.22</td>\n",
       "      <td>5.42</td>\n",
       "      <td>5.99</td>\n",
       "      <td>6.91</td>\n",
       "      <td>2.70</td>\n",
       "      <td>4.45</td>\n",
       "      <td>6.53</td>\n",
       "      <td>5.69</td>\n",
       "      <td>3.28</td>\n",
       "      <td>5.06</td>\n",
       "      <td>5.51</td>\n",
       "    </tr>\n",
       "    <tr>\n",
       "      <th>3.0</th>\n",
       "      <td>11.59</td>\n",
       "      <td>9.66</td>\n",
       "      <td>10.83</td>\n",
       "      <td>12.47</td>\n",
       "      <td>2.70</td>\n",
       "      <td>8.54</td>\n",
       "      <td>9.13</td>\n",
       "      <td>14.96</td>\n",
       "      <td>4.92</td>\n",
       "      <td>9.46</td>\n",
       "      <td>9.23</td>\n",
       "    </tr>\n",
       "    <tr>\n",
       "      <th>4.0</th>\n",
       "      <td>44.82</td>\n",
       "      <td>69.58</td>\n",
       "      <td>70.70</td>\n",
       "      <td>54.44</td>\n",
       "      <td>78.60</td>\n",
       "      <td>64.02</td>\n",
       "      <td>61.98</td>\n",
       "      <td>48.86</td>\n",
       "      <td>91.80</td>\n",
       "      <td>65.98</td>\n",
       "      <td>66.79</td>\n",
       "    </tr>\n",
       "  </tbody>\n",
       "</table>\n",
       "</div>"
      ],
      "text/plain": [
       "#Cluster             1      2      3      4   ...     8      9      10     11\n",
       "Instrumentalness                              ...                            \n",
       "1.0               37.37  15.34  12.48  26.18  ...  30.50   0.00  19.50  18.46\n",
       "2.0                6.22   5.42   5.99   6.91  ...   5.69   3.28   5.06   5.51\n",
       "3.0               11.59   9.66  10.83  12.47  ...  14.96   4.92   9.46   9.23\n",
       "4.0               44.82  69.58  70.70  54.44  ...  48.86  91.80  65.98  66.79\n",
       "\n",
       "[4 rows x 11 columns]"
      ]
     },
     "execution_count": 84,
     "metadata": {},
     "output_type": "execute_result"
    }
   ],
   "source": [
    "round(pd.crosstab(index=Identifiers['Instrumentalness'], columns=Identifiers['#Cluster'], normalize='columns')*100, 2)"
   ]
  },
  {
   "cell_type": "markdown",
   "id": "87c01488-1391-4479-8d18-bb89a57c9dbc",
   "metadata": {
    "id": "a6bKkk-w95_s"
   },
   "source": [
    "Instrumentalness is frequent in every cluster, so we notice only that the cluster number 9 has very high values: it may tell us that this cluster represents a genre with an imposing instrumental, like Hip-Hop."
   ]
  },
  {
   "cell_type": "code",
   "execution_count": null,
   "id": "c651b9a3-a3b4-4dd7-ac27-09cd58bdf575",
   "metadata": {
    "colab": {
     "base_uri": "https://localhost:8080/",
     "height": 206
    },
    "id": "OJfo1HWgOARv",
    "outputId": "930a76bb-7180-4197-f8c8-054799b3f943"
   },
   "outputs": [
    {
     "data": {
      "text/html": [
       "<div>\n",
       "<style scoped>\n",
       "    .dataframe tbody tr th:only-of-type {\n",
       "        vertical-align: middle;\n",
       "    }\n",
       "\n",
       "    .dataframe tbody tr th {\n",
       "        vertical-align: top;\n",
       "    }\n",
       "\n",
       "    .dataframe thead th {\n",
       "        text-align: right;\n",
       "    }\n",
       "</style>\n",
       "<table border=\"1\" class=\"dataframe\">\n",
       "  <thead>\n",
       "    <tr style=\"text-align: right;\">\n",
       "      <th>#Cluster</th>\n",
       "      <th>1</th>\n",
       "      <th>2</th>\n",
       "      <th>3</th>\n",
       "      <th>4</th>\n",
       "      <th>5</th>\n",
       "      <th>6</th>\n",
       "      <th>7</th>\n",
       "      <th>8</th>\n",
       "      <th>9</th>\n",
       "      <th>10</th>\n",
       "    </tr>\n",
       "    <tr>\n",
       "      <th>Liveness</th>\n",
       "      <th></th>\n",
       "      <th></th>\n",
       "      <th></th>\n",
       "      <th></th>\n",
       "      <th></th>\n",
       "      <th></th>\n",
       "      <th></th>\n",
       "      <th></th>\n",
       "      <th></th>\n",
       "      <th></th>\n",
       "    </tr>\n",
       "  </thead>\n",
       "  <tbody>\n",
       "    <tr>\n",
       "      <th>1.0</th>\n",
       "      <td>78.19</td>\n",
       "      <td>45.47</td>\n",
       "      <td>93.52</td>\n",
       "      <td>86.15</td>\n",
       "      <td>81.51</td>\n",
       "      <td>100.0</td>\n",
       "      <td>85.93</td>\n",
       "      <td>83.98</td>\n",
       "      <td>68.11</td>\n",
       "      <td>73.83</td>\n",
       "    </tr>\n",
       "    <tr>\n",
       "      <th>2.0</th>\n",
       "      <td>16.50</td>\n",
       "      <td>35.07</td>\n",
       "      <td>5.09</td>\n",
       "      <td>11.37</td>\n",
       "      <td>14.12</td>\n",
       "      <td>0.0</td>\n",
       "      <td>7.08</td>\n",
       "      <td>11.14</td>\n",
       "      <td>21.95</td>\n",
       "      <td>18.39</td>\n",
       "    </tr>\n",
       "    <tr>\n",
       "      <th>3.0</th>\n",
       "      <td>4.16</td>\n",
       "      <td>10.21</td>\n",
       "      <td>1.39</td>\n",
       "      <td>1.79</td>\n",
       "      <td>3.53</td>\n",
       "      <td>0.0</td>\n",
       "      <td>5.95</td>\n",
       "      <td>3.62</td>\n",
       "      <td>7.89</td>\n",
       "      <td>6.14</td>\n",
       "    </tr>\n",
       "    <tr>\n",
       "      <th>4.0</th>\n",
       "      <td>1.16</td>\n",
       "      <td>9.25</td>\n",
       "      <td>0.00</td>\n",
       "      <td>0.69</td>\n",
       "      <td>0.83</td>\n",
       "      <td>0.0</td>\n",
       "      <td>1.04</td>\n",
       "      <td>1.27</td>\n",
       "      <td>2.05</td>\n",
       "      <td>1.64</td>\n",
       "    </tr>\n",
       "  </tbody>\n",
       "</table>\n",
       "</div>"
      ],
      "text/plain": [
       "#Cluster     1      2      3      4      5      6      7      8      9      10\n",
       "Liveness                                                                      \n",
       "1.0       78.19  45.47  93.52  86.15  81.51  100.0  85.93  83.98  68.11  73.83\n",
       "2.0       16.50  35.07   5.09  11.37  14.12    0.0   7.08  11.14  21.95  18.39\n",
       "3.0        4.16  10.21   1.39   1.79   3.53    0.0   5.95   3.62   7.89   6.14\n",
       "4.0        1.16   9.25   0.00   0.69   0.83    0.0   1.04   1.27   2.05   1.64"
      ]
     },
     "execution_count": 29,
     "metadata": {},
     "output_type": "execute_result"
    }
   ],
   "source": [
    "round(pd.crosstab(index=Identifiers['Liveness'], columns=Identifiers['#Cluster'], normalize='columns')*100, 2)"
   ]
  },
  {
   "cell_type": "markdown",
   "id": "646909bb-1f7a-486a-b6d4-a2606da423f8",
   "metadata": {
    "id": "9E3AcpgokTSH"
   },
   "source": [
    "All the values are very similar and low, so we can't see difference between the clusters. all the variables have low values for \"Liveness\""
   ]
  },
  {
   "cell_type": "code",
   "execution_count": null,
   "id": "698b9492-76a8-4e39-a2d5-37fb32050866",
   "metadata": {
    "colab": {
     "base_uri": "https://localhost:8080/",
     "height": 206
    },
    "id": "G2I_vspIOEDL",
    "outputId": "c45ed704-fa58-46a2-d151-1af407af3aff"
   },
   "outputs": [
    {
     "data": {
      "text/html": [
       "<div>\n",
       "<style scoped>\n",
       "    .dataframe tbody tr th:only-of-type {\n",
       "        vertical-align: middle;\n",
       "    }\n",
       "\n",
       "    .dataframe tbody tr th {\n",
       "        vertical-align: top;\n",
       "    }\n",
       "\n",
       "    .dataframe thead th {\n",
       "        text-align: right;\n",
       "    }\n",
       "</style>\n",
       "<table border=\"1\" class=\"dataframe\">\n",
       "  <thead>\n",
       "    <tr style=\"text-align: right;\">\n",
       "      <th>#Cluster</th>\n",
       "      <th>1</th>\n",
       "      <th>2</th>\n",
       "      <th>3</th>\n",
       "      <th>4</th>\n",
       "      <th>5</th>\n",
       "      <th>6</th>\n",
       "      <th>7</th>\n",
       "      <th>8</th>\n",
       "      <th>9</th>\n",
       "      <th>10</th>\n",
       "    </tr>\n",
       "    <tr>\n",
       "      <th>Speechiness</th>\n",
       "      <th></th>\n",
       "      <th></th>\n",
       "      <th></th>\n",
       "      <th></th>\n",
       "      <th></th>\n",
       "      <th></th>\n",
       "      <th></th>\n",
       "      <th></th>\n",
       "      <th></th>\n",
       "      <th></th>\n",
       "    </tr>\n",
       "  </thead>\n",
       "  <tbody>\n",
       "    <tr>\n",
       "      <th>1.0</th>\n",
       "      <td>99.04</td>\n",
       "      <td>88.05</td>\n",
       "      <td>97.22</td>\n",
       "      <td>90.90</td>\n",
       "      <td>69.00</td>\n",
       "      <td>100.0</td>\n",
       "      <td>97.64</td>\n",
       "      <td>98.19</td>\n",
       "      <td>95.14</td>\n",
       "      <td>82.50</td>\n",
       "    </tr>\n",
       "    <tr>\n",
       "      <th>2.0</th>\n",
       "      <td>0.76</td>\n",
       "      <td>5.97</td>\n",
       "      <td>1.39</td>\n",
       "      <td>7.58</td>\n",
       "      <td>17.59</td>\n",
       "      <td>0.0</td>\n",
       "      <td>1.79</td>\n",
       "      <td>1.41</td>\n",
       "      <td>3.24</td>\n",
       "      <td>14.07</td>\n",
       "    </tr>\n",
       "    <tr>\n",
       "      <th>3.0</th>\n",
       "      <td>0.20</td>\n",
       "      <td>1.93</td>\n",
       "      <td>0.93</td>\n",
       "      <td>1.03</td>\n",
       "      <td>7.06</td>\n",
       "      <td>0.0</td>\n",
       "      <td>0.19</td>\n",
       "      <td>0.40</td>\n",
       "      <td>1.19</td>\n",
       "      <td>2.58</td>\n",
       "    </tr>\n",
       "    <tr>\n",
       "      <th>4.0</th>\n",
       "      <td>0.00</td>\n",
       "      <td>4.05</td>\n",
       "      <td>0.46</td>\n",
       "      <td>0.48</td>\n",
       "      <td>6.35</td>\n",
       "      <td>0.0</td>\n",
       "      <td>0.38</td>\n",
       "      <td>0.00</td>\n",
       "      <td>0.43</td>\n",
       "      <td>0.84</td>\n",
       "    </tr>\n",
       "  </tbody>\n",
       "</table>\n",
       "</div>"
      ],
      "text/plain": [
       "#Cluster        1      2      3      4   ...     7      8      9      10\n",
       "Speechiness                              ...                            \n",
       "1.0          99.04  88.05  97.22  90.90  ...  97.64  98.19  95.14  82.50\n",
       "2.0           0.76   5.97   1.39   7.58  ...   1.79   1.41   3.24  14.07\n",
       "3.0           0.20   1.93   0.93   1.03  ...   0.19   0.40   1.19   2.58\n",
       "4.0           0.00   4.05   0.46   0.48  ...   0.38   0.00   0.43   0.84\n",
       "\n",
       "[4 rows x 10 columns]"
      ]
     },
     "execution_count": 30,
     "metadata": {},
     "output_type": "execute_result"
    }
   ],
   "source": [
    "round(pd.crosstab(index=Identifiers['Speechiness'], columns=Identifiers['#Cluster'], normalize='columns')*100, 2)"
   ]
  },
  {
   "cell_type": "markdown",
   "id": "521848cf-c292-4c5a-823b-b162f93634f7",
   "metadata": {
    "id": "Zp3Xy9zJmFzQ"
   },
   "source": [
    "Also the Speechiness returns unrelevant values: all the songs look without the \"spoken component\", so we can skip the analysis for this pivot table."
   ]
  },
  {
   "cell_type": "code",
   "execution_count": null,
   "id": "3c02ad3a-afd8-4800-9fa3-25b6b4bb7444",
   "metadata": {
    "colab": {
     "base_uri": "https://localhost:8080/",
     "height": 206
    },
    "id": "_FrxOgQUOJ96",
    "outputId": "f31a9cd0-b6a6-49b8-f3f3-5890bcd4fd18"
   },
   "outputs": [
    {
     "data": {
      "text/html": [
       "<div>\n",
       "<style scoped>\n",
       "    .dataframe tbody tr th:only-of-type {\n",
       "        vertical-align: middle;\n",
       "    }\n",
       "\n",
       "    .dataframe tbody tr th {\n",
       "        vertical-align: top;\n",
       "    }\n",
       "\n",
       "    .dataframe thead th {\n",
       "        text-align: right;\n",
       "    }\n",
       "</style>\n",
       "<table border=\"1\" class=\"dataframe\">\n",
       "  <thead>\n",
       "    <tr style=\"text-align: right;\">\n",
       "      <th>#Cluster</th>\n",
       "      <th>1</th>\n",
       "      <th>2</th>\n",
       "      <th>3</th>\n",
       "      <th>4</th>\n",
       "      <th>5</th>\n",
       "      <th>6</th>\n",
       "      <th>7</th>\n",
       "      <th>8</th>\n",
       "      <th>9</th>\n",
       "      <th>10</th>\n",
       "    </tr>\n",
       "    <tr>\n",
       "      <th>Valence</th>\n",
       "      <th></th>\n",
       "      <th></th>\n",
       "      <th></th>\n",
       "      <th></th>\n",
       "      <th></th>\n",
       "      <th></th>\n",
       "      <th></th>\n",
       "      <th></th>\n",
       "      <th></th>\n",
       "      <th></th>\n",
       "    </tr>\n",
       "  </thead>\n",
       "  <tbody>\n",
       "    <tr>\n",
       "      <th>1.0</th>\n",
       "      <td>24.77</td>\n",
       "      <td>21.58</td>\n",
       "      <td>76.39</td>\n",
       "      <td>33.36</td>\n",
       "      <td>19.90</td>\n",
       "      <td>100.0</td>\n",
       "      <td>62.13</td>\n",
       "      <td>36.78</td>\n",
       "      <td>42.81</td>\n",
       "      <td>15.95</td>\n",
       "    </tr>\n",
       "    <tr>\n",
       "      <th>2.0</th>\n",
       "      <td>30.44</td>\n",
       "      <td>31.21</td>\n",
       "      <td>11.57</td>\n",
       "      <td>30.39</td>\n",
       "      <td>25.93</td>\n",
       "      <td>0.0</td>\n",
       "      <td>23.32</td>\n",
       "      <td>30.27</td>\n",
       "      <td>24.11</td>\n",
       "      <td>24.39</td>\n",
       "    </tr>\n",
       "    <tr>\n",
       "      <th>3.0</th>\n",
       "      <td>26.21</td>\n",
       "      <td>25.43</td>\n",
       "      <td>8.33</td>\n",
       "      <td>23.91</td>\n",
       "      <td>31.58</td>\n",
       "      <td>0.0</td>\n",
       "      <td>9.92</td>\n",
       "      <td>19.93</td>\n",
       "      <td>18.38</td>\n",
       "      <td>32.04</td>\n",
       "    </tr>\n",
       "    <tr>\n",
       "      <th>4.0</th>\n",
       "      <td>18.58</td>\n",
       "      <td>21.77</td>\n",
       "      <td>3.70</td>\n",
       "      <td>12.34</td>\n",
       "      <td>22.59</td>\n",
       "      <td>0.0</td>\n",
       "      <td>4.63</td>\n",
       "      <td>13.02</td>\n",
       "      <td>14.70</td>\n",
       "      <td>27.63</td>\n",
       "    </tr>\n",
       "  </tbody>\n",
       "</table>\n",
       "</div>"
      ],
      "text/plain": [
       "#Cluster     1      2      3      4      5      6      7      8      9      10\n",
       "Valence                                                                       \n",
       "1.0       24.77  21.58  76.39  33.36  19.90  100.0  62.13  36.78  42.81  15.95\n",
       "2.0       30.44  31.21  11.57  30.39  25.93    0.0  23.32  30.27  24.11  24.39\n",
       "3.0       26.21  25.43   8.33  23.91  31.58    0.0   9.92  19.93  18.38  32.04\n",
       "4.0       18.58  21.77   3.70  12.34  22.59    0.0   4.63  13.02  14.70  27.63"
      ]
     },
     "execution_count": 31,
     "metadata": {},
     "output_type": "execute_result"
    }
   ],
   "source": [
    "round(pd.crosstab(index=Identifiers['Valence'], columns=Identifiers['#Cluster'], normalize='columns')*100, 2)"
   ]
  },
  {
   "cell_type": "markdown",
   "id": "d3ff0046-daa4-443d-b975-1a13120f36b8",
   "metadata": {
    "id": "tApRjHOImc4I"
   },
   "source": [
    "The musical positiveness conveyed by a track is described by the \"Valence\". Every cluster have low valence, except for the number 2, 5 and 10: these clusters hase more positive songs than the others. We can hypothesize that into these clusters there are genres more happy than the others cluster."
   ]
  },
  {
   "cell_type": "markdown",
   "id": "0eeccd85-d01b-4d1b-b223-4afff53ef46a",
   "metadata": {
    "id": "HFE7TqD_1DBb"
   },
   "source": [
    "Now, it's time to compare the obtained clusters to the reality genre. Use it to answer what is the most representative genre for each one of the clusters."
   ]
  },
  {
   "cell_type": "code",
   "execution_count": null,
   "id": "c9450d55-3fb4-428b-99e0-2c664a0b8344",
   "metadata": {
    "colab": {
     "base_uri": "https://localhost:8080/",
     "height": 394
    },
    "id": "9fG7pue71Hwt",
    "outputId": "d436f4c6-cacc-42c0-da8f-e298d5f1d587"
   },
   "outputs": [
    {
     "data": {
      "text/html": [
       "<div>\n",
       "<style scoped>\n",
       "    .dataframe tbody tr th:only-of-type {\n",
       "        vertical-align: middle;\n",
       "    }\n",
       "\n",
       "    .dataframe tbody tr th {\n",
       "        vertical-align: top;\n",
       "    }\n",
       "\n",
       "    .dataframe thead th {\n",
       "        text-align: right;\n",
       "    }\n",
       "</style>\n",
       "<table border=\"1\" class=\"dataframe\">\n",
       "  <thead>\n",
       "    <tr style=\"text-align: right;\">\n",
       "      <th></th>\n",
       "      <th>Acousticness</th>\n",
       "      <th>Danceability</th>\n",
       "      <th>Energy</th>\n",
       "      <th>Instrumentalness</th>\n",
       "      <th>Liveness</th>\n",
       "      <th>Speechiness</th>\n",
       "      <th>Valence</th>\n",
       "      <th>#Cluster</th>\n",
       "      <th>Genre</th>\n",
       "    </tr>\n",
       "  </thead>\n",
       "  <tbody>\n",
       "    <tr>\n",
       "      <th>0</th>\n",
       "      <td>2.0</td>\n",
       "      <td>3.0</td>\n",
       "      <td>3.0</td>\n",
       "      <td>1.0</td>\n",
       "      <td>1.0</td>\n",
       "      <td>1.0</td>\n",
       "      <td>3.0</td>\n",
       "      <td>10</td>\n",
       "      <td>Hip-Hop</td>\n",
       "    </tr>\n",
       "    <tr>\n",
       "      <th>1</th>\n",
       "      <td>2.0</td>\n",
       "      <td>3.0</td>\n",
       "      <td>4.0</td>\n",
       "      <td>1.0</td>\n",
       "      <td>1.0</td>\n",
       "      <td>2.0</td>\n",
       "      <td>2.0</td>\n",
       "      <td>10</td>\n",
       "      <td>Hip-Hop</td>\n",
       "    </tr>\n",
       "    <tr>\n",
       "      <th>2</th>\n",
       "      <td>1.0</td>\n",
       "      <td>3.0</td>\n",
       "      <td>3.0</td>\n",
       "      <td>1.0</td>\n",
       "      <td>2.0</td>\n",
       "      <td>1.0</td>\n",
       "      <td>3.0</td>\n",
       "      <td>10</td>\n",
       "      <td>Hip-Hop</td>\n",
       "    </tr>\n",
       "    <tr>\n",
       "      <th>3</th>\n",
       "      <td>4.0</td>\n",
       "      <td>3.0</td>\n",
       "      <td>4.0</td>\n",
       "      <td>4.0</td>\n",
       "      <td>1.0</td>\n",
       "      <td>1.0</td>\n",
       "      <td>4.0</td>\n",
       "      <td>1</td>\n",
       "      <td>Pop</td>\n",
       "    </tr>\n",
       "    <tr>\n",
       "      <th>4</th>\n",
       "      <td>2.0</td>\n",
       "      <td>3.0</td>\n",
       "      <td>3.0</td>\n",
       "      <td>1.0</td>\n",
       "      <td>1.0</td>\n",
       "      <td>3.0</td>\n",
       "      <td>4.0</td>\n",
       "      <td>5</td>\n",
       "      <td>Hip-Hop</td>\n",
       "    </tr>\n",
       "    <tr>\n",
       "      <th>5</th>\n",
       "      <td>1.0</td>\n",
       "      <td>2.0</td>\n",
       "      <td>3.0</td>\n",
       "      <td>4.0</td>\n",
       "      <td>1.0</td>\n",
       "      <td>1.0</td>\n",
       "      <td>1.0</td>\n",
       "      <td>1</td>\n",
       "      <td>Folk</td>\n",
       "    </tr>\n",
       "    <tr>\n",
       "      <th>6</th>\n",
       "      <td>2.0</td>\n",
       "      <td>3.0</td>\n",
       "      <td>2.0</td>\n",
       "      <td>3.0</td>\n",
       "      <td>1.0</td>\n",
       "      <td>1.0</td>\n",
       "      <td>3.0</td>\n",
       "      <td>8</td>\n",
       "      <td>Folk</td>\n",
       "    </tr>\n",
       "    <tr>\n",
       "      <th>7</th>\n",
       "      <td>4.0</td>\n",
       "      <td>2.0</td>\n",
       "      <td>1.0</td>\n",
       "      <td>2.0</td>\n",
       "      <td>1.0</td>\n",
       "      <td>1.0</td>\n",
       "      <td>1.0</td>\n",
       "      <td>7</td>\n",
       "      <td>Folk</td>\n",
       "    </tr>\n",
       "    <tr>\n",
       "      <th>8</th>\n",
       "      <td>3.0</td>\n",
       "      <td>2.0</td>\n",
       "      <td>4.0</td>\n",
       "      <td>4.0</td>\n",
       "      <td>1.0</td>\n",
       "      <td>1.0</td>\n",
       "      <td>1.0</td>\n",
       "      <td>8</td>\n",
       "      <td>Folk</td>\n",
       "    </tr>\n",
       "    <tr>\n",
       "      <th>9</th>\n",
       "      <td>4.0</td>\n",
       "      <td>2.0</td>\n",
       "      <td>3.0</td>\n",
       "      <td>4.0</td>\n",
       "      <td>2.0</td>\n",
       "      <td>1.0</td>\n",
       "      <td>4.0</td>\n",
       "      <td>1</td>\n",
       "      <td>Jazz</td>\n",
       "    </tr>\n",
       "    <tr>\n",
       "      <th>10</th>\n",
       "      <td>1.0</td>\n",
       "      <td>2.0</td>\n",
       "      <td>2.0</td>\n",
       "      <td>3.0</td>\n",
       "      <td>1.0</td>\n",
       "      <td>1.0</td>\n",
       "      <td>3.0</td>\n",
       "      <td>10</td>\n",
       "      <td>Jazz</td>\n",
       "    </tr>\n",
       "  </tbody>\n",
       "</table>\n",
       "</div>"
      ],
      "text/plain": [
       "    Acousticness  Danceability  Energy  ...  Valence  #Cluster    Genre\n",
       "0            2.0           3.0     3.0  ...      3.0        10  Hip-Hop\n",
       "1            2.0           3.0     4.0  ...      2.0        10  Hip-Hop\n",
       "2            1.0           3.0     3.0  ...      3.0        10  Hip-Hop\n",
       "3            4.0           3.0     4.0  ...      4.0         1      Pop\n",
       "4            2.0           3.0     3.0  ...      4.0         5  Hip-Hop\n",
       "5            1.0           2.0     3.0  ...      1.0         1     Folk\n",
       "6            2.0           3.0     2.0  ...      3.0         8     Folk\n",
       "7            4.0           2.0     1.0  ...      1.0         7     Folk\n",
       "8            3.0           2.0     4.0  ...      1.0         8     Folk\n",
       "9            4.0           2.0     3.0  ...      4.0         1     Jazz\n",
       "10           1.0           2.0     2.0  ...      3.0        10     Jazz\n",
       "\n",
       "[11 rows x 9 columns]"
      ]
     },
     "execution_count": 32,
     "metadata": {},
     "output_type": "execute_result"
    }
   ],
   "source": [
    "#We start by re-creating the joined dataset with genres and the sound variables\n",
    "Dataframe_genre = pd.merge(left = df, right = df3, left_on = 'track_id', right_on = 'track_id')\n",
    "#and then we put the 'genre' variable into our dataset\n",
    "Identifiers['Genre'] = Dataframe_genre['track_genre_top']\n",
    "Identifiers.head(11)"
   ]
  },
  {
   "cell_type": "code",
   "execution_count": null,
   "id": "daa7faa4-16a3-4b7a-852c-84673b205639",
   "metadata": {
    "colab": {
     "base_uri": "https://localhost:8080/",
     "height": 457
    },
    "id": "fbXk6GhSoFbo",
    "outputId": "e710d528-41f3-4e61-e1c3-78f007704d39"
   },
   "outputs": [
    {
     "data": {
      "text/html": [
       "<div>\n",
       "<style scoped>\n",
       "    .dataframe tbody tr th:only-of-type {\n",
       "        vertical-align: middle;\n",
       "    }\n",
       "\n",
       "    .dataframe tbody tr th {\n",
       "        vertical-align: top;\n",
       "    }\n",
       "\n",
       "    .dataframe thead th {\n",
       "        text-align: right;\n",
       "    }\n",
       "</style>\n",
       "<table border=\"1\" class=\"dataframe\">\n",
       "  <thead>\n",
       "    <tr style=\"text-align: right;\">\n",
       "      <th>#Cluster</th>\n",
       "      <th>1</th>\n",
       "      <th>2</th>\n",
       "      <th>3</th>\n",
       "      <th>4</th>\n",
       "      <th>5</th>\n",
       "      <th>6</th>\n",
       "      <th>7</th>\n",
       "      <th>8</th>\n",
       "      <th>9</th>\n",
       "      <th>10</th>\n",
       "    </tr>\n",
       "    <tr>\n",
       "      <th>Genre</th>\n",
       "      <th></th>\n",
       "      <th></th>\n",
       "      <th></th>\n",
       "      <th></th>\n",
       "      <th></th>\n",
       "      <th></th>\n",
       "      <th></th>\n",
       "      <th></th>\n",
       "      <th></th>\n",
       "      <th></th>\n",
       "    </tr>\n",
       "  </thead>\n",
       "  <tbody>\n",
       "    <tr>\n",
       "      <th>Blues</th>\n",
       "      <td>0.50</td>\n",
       "      <td>0.22</td>\n",
       "      <td>0.00</td>\n",
       "      <td>0.21</td>\n",
       "      <td>0.50</td>\n",
       "      <td>0.0</td>\n",
       "      <td>1.88</td>\n",
       "      <td>1.57</td>\n",
       "      <td>0.00</td>\n",
       "      <td>0.40</td>\n",
       "    </tr>\n",
       "    <tr>\n",
       "      <th>Classical</th>\n",
       "      <td>0.10</td>\n",
       "      <td>9.05</td>\n",
       "      <td>12.41</td>\n",
       "      <td>0.10</td>\n",
       "      <td>0.20</td>\n",
       "      <td>0.0</td>\n",
       "      <td>23.95</td>\n",
       "      <td>1.63</td>\n",
       "      <td>0.27</td>\n",
       "      <td>0.27</td>\n",
       "    </tr>\n",
       "    <tr>\n",
       "      <th>Electronic</th>\n",
       "      <td>5.11</td>\n",
       "      <td>1.10</td>\n",
       "      <td>30.66</td>\n",
       "      <td>49.69</td>\n",
       "      <td>52.05</td>\n",
       "      <td>100.0</td>\n",
       "      <td>16.02</td>\n",
       "      <td>11.35</td>\n",
       "      <td>20.00</td>\n",
       "      <td>36.56</td>\n",
       "    </tr>\n",
       "    <tr>\n",
       "      <th>Experimental</th>\n",
       "      <td>0.10</td>\n",
       "      <td>0.44</td>\n",
       "      <td>0.00</td>\n",
       "      <td>0.10</td>\n",
       "      <td>0.20</td>\n",
       "      <td>0.0</td>\n",
       "      <td>0.43</td>\n",
       "      <td>0.16</td>\n",
       "      <td>0.13</td>\n",
       "      <td>0.20</td>\n",
       "    </tr>\n",
       "    <tr>\n",
       "      <th>Folk</th>\n",
       "      <td>3.33</td>\n",
       "      <td>9.93</td>\n",
       "      <td>27.74</td>\n",
       "      <td>2.90</td>\n",
       "      <td>1.40</td>\n",
       "      <td>0.0</td>\n",
       "      <td>24.82</td>\n",
       "      <td>25.41</td>\n",
       "      <td>2.55</td>\n",
       "      <td>1.53</td>\n",
       "    </tr>\n",
       "    <tr>\n",
       "      <th>Hip-Hop</th>\n",
       "      <td>1.49</td>\n",
       "      <td>0.00</td>\n",
       "      <td>3.65</td>\n",
       "      <td>17.12</td>\n",
       "      <td>24.12</td>\n",
       "      <td>0.0</td>\n",
       "      <td>1.15</td>\n",
       "      <td>2.50</td>\n",
       "      <td>5.23</td>\n",
       "      <td>24.95</td>\n",
       "    </tr>\n",
       "    <tr>\n",
       "      <th>Instrumental</th>\n",
       "      <td>0.45</td>\n",
       "      <td>0.66</td>\n",
       "      <td>0.73</td>\n",
       "      <td>0.31</td>\n",
       "      <td>0.90</td>\n",
       "      <td>0.0</td>\n",
       "      <td>1.15</td>\n",
       "      <td>2.06</td>\n",
       "      <td>0.54</td>\n",
       "      <td>0.60</td>\n",
       "    </tr>\n",
       "    <tr>\n",
       "      <th>International</th>\n",
       "      <td>0.79</td>\n",
       "      <td>1.10</td>\n",
       "      <td>3.65</td>\n",
       "      <td>0.00</td>\n",
       "      <td>1.10</td>\n",
       "      <td>0.0</td>\n",
       "      <td>2.45</td>\n",
       "      <td>2.88</td>\n",
       "      <td>1.21</td>\n",
       "      <td>1.13</td>\n",
       "    </tr>\n",
       "    <tr>\n",
       "      <th>Jazz</th>\n",
       "      <td>0.74</td>\n",
       "      <td>1.55</td>\n",
       "      <td>0.73</td>\n",
       "      <td>1.56</td>\n",
       "      <td>2.50</td>\n",
       "      <td>0.0</td>\n",
       "      <td>10.25</td>\n",
       "      <td>4.07</td>\n",
       "      <td>1.07</td>\n",
       "      <td>1.59</td>\n",
       "    </tr>\n",
       "    <tr>\n",
       "      <th>Old-Time / Historic</th>\n",
       "      <td>0.05</td>\n",
       "      <td>74.61</td>\n",
       "      <td>0.00</td>\n",
       "      <td>0.31</td>\n",
       "      <td>0.00</td>\n",
       "      <td>0.0</td>\n",
       "      <td>1.44</td>\n",
       "      <td>0.16</td>\n",
       "      <td>0.13</td>\n",
       "      <td>0.07</td>\n",
       "    </tr>\n",
       "    <tr>\n",
       "      <th>Pop</th>\n",
       "      <td>2.63</td>\n",
       "      <td>0.22</td>\n",
       "      <td>0.73</td>\n",
       "      <td>2.80</td>\n",
       "      <td>6.01</td>\n",
       "      <td>0.0</td>\n",
       "      <td>4.76</td>\n",
       "      <td>6.51</td>\n",
       "      <td>2.28</td>\n",
       "      <td>2.26</td>\n",
       "    </tr>\n",
       "    <tr>\n",
       "      <th>Rock</th>\n",
       "      <td>84.71</td>\n",
       "      <td>1.10</td>\n",
       "      <td>19.71</td>\n",
       "      <td>24.90</td>\n",
       "      <td>11.01</td>\n",
       "      <td>0.0</td>\n",
       "      <td>11.69</td>\n",
       "      <td>41.69</td>\n",
       "      <td>66.58</td>\n",
       "      <td>30.46</td>\n",
       "    </tr>\n",
       "  </tbody>\n",
       "</table>\n",
       "</div>"
      ],
      "text/plain": [
       "#Cluster                1      2      3      4   ...     7      8      9      10\n",
       "Genre                                            ...                            \n",
       "Blues                 0.50   0.22   0.00   0.21  ...   1.88   1.57   0.00   0.40\n",
       "Classical             0.10   9.05  12.41   0.10  ...  23.95   1.63   0.27   0.27\n",
       "Electronic            5.11   1.10  30.66  49.69  ...  16.02  11.35  20.00  36.56\n",
       "Experimental          0.10   0.44   0.00   0.10  ...   0.43   0.16   0.13   0.20\n",
       "Folk                  3.33   9.93  27.74   2.90  ...  24.82  25.41   2.55   1.53\n",
       "Hip-Hop               1.49   0.00   3.65  17.12  ...   1.15   2.50   5.23  24.95\n",
       "Instrumental          0.45   0.66   0.73   0.31  ...   1.15   2.06   0.54   0.60\n",
       "International         0.79   1.10   3.65   0.00  ...   2.45   2.88   1.21   1.13\n",
       "Jazz                  0.74   1.55   0.73   1.56  ...  10.25   4.07   1.07   1.59\n",
       "Old-Time / Historic   0.05  74.61   0.00   0.31  ...   1.44   0.16   0.13   0.07\n",
       "Pop                   2.63   0.22   0.73   2.80  ...   4.76   6.51   2.28   2.26\n",
       "Rock                 84.71   1.10  19.71  24.90  ...  11.69  41.69  66.58  30.46\n",
       "\n",
       "[12 rows x 10 columns]"
      ]
     },
     "execution_count": 33,
     "metadata": {},
     "output_type": "execute_result"
    }
   ],
   "source": [
    "round(pd.crosstab(index=Identifiers['Genre'], columns=Identifiers['#Cluster'], normalize='columns')*100, 2)"
   ]
  },
  {
   "cell_type": "code",
   "execution_count": null,
   "id": "45e424cd-25b0-4aef-bb54-16ec4b88d3ea",
   "metadata": {
    "colab": {
     "base_uri": "https://localhost:8080/",
     "height": 604
    },
    "id": "Yxsug2CX1Wgt",
    "outputId": "22e99da0-3523-409b-b57e-2a31421a860d"
   },
   "outputs": [
    {
     "data": {
      "image/png": "[encoded data removed]",
      "text/plain": [
       "<Figure size 720x720 with 12 Axes>"
      ]
     },
     "metadata": {
      "needs_background": "light"
     },
     "output_type": "display_data"
    }
   ],
   "source": [
    "Identifiers.hist(column='#Cluster', by = 'Genre', figsize=(15,15))\n",
    "plt.show()\n",
    "#we decided to plot the data to have a better visualization of the parallelity between clusters and genres  "
   ]
  },
  {
   "cell_type": "markdown",
   "id": "c0d47a3a-a34a-4d8f-9045-dc88a4eba56c",
   "metadata": {
    "id": "klqbgjYauQxG"
   },
   "source": [
    "From the obtained results we can conclude that the clustering has in part succeded: we can observe that our clustering has captured some genres like Old-time/Historic, Rock and Classical are mainly contained into some specific clusters. Old-time features are mainly contained into Cluster 2, Rock's are primarly contained into Cluster 1 and Classical variables are mostly contained into Cluster 7.\n",
    "\n",
    "\n",
    "Although the clustering is not so accurate because we are working in unsupervised contexts and we are unaware of the \"ground truth\" at the base of the data. It can be useful in cases like these to be supported by people with specific knowledge of the field of which the data are part so as to be able to have a more accurate technical opinion regarding the features present in the dataset and any results obtained."
   ]
  },
  {
   "cell_type": "markdown",
   "id": "ae050dd6-1ef1-494b-aff5-ab539ea59a6b",
   "metadata": {
    "id": "mP2zajIHp4IG"
   },
   "source": [
    "# 2.4.7\n"
   ]
  },
  {
   "cell_type": "code",
   "execution_count": null,
   "id": "23bdc0b8-8f59-4720-b732-c9335d4a278f",
   "metadata": {
    "id": "OmOvtK6Rofvj"
   },
   "outputs": [],
   "source": [
    "df2_pca = df2.drop(columns=['track_id'])"
   ]
  },
  {
   "cell_type": "code",
   "execution_count": null,
   "id": "a62332be-c5db-47df-931f-ab0618f8013c",
   "metadata": {
    "id": "pvQE5T0XqpHP"
   },
   "outputs": [],
   "source": [
    "x2 = StandardScaler().fit_transform(df2_pca)\n",
    "x2 = pd.DataFrame(x2)"
   ]
  },
  {
   "cell_type": "code",
   "execution_count": null,
   "id": "1c45d362-920f-4dd2-bb48-72fc96953d08",
   "metadata": {
    "colab": {
     "base_uri": "https://localhost:8080/"
    },
    "id": "nMJp9Q45qvKd",
    "outputId": "1941fcfb-b687-413c-9af0-38f284d8af3e"
   },
   "outputs": [
    {
     "data": {
      "text/plain": [
       "PCA()"
      ]
     },
     "execution_count": 8,
     "metadata": {},
     "output_type": "execute_result"
    }
   ],
   "source": [
    "pca2 = PCA()\n",
    "pca2.fit(x2)"
   ]
  },
  {
   "cell_type": "code",
   "execution_count": null,
   "id": "9cbfddfa-3b5f-4126-9a75-ec06178e4d05",
   "metadata": {
    "colab": {
     "base_uri": "https://localhost:8080/"
    },
    "id": "Q4EMkvOHrPGW",
    "outputId": "fc13ca5b-524e-4b57-9930-01a5ee44d973"
   },
   "outputs": [
    {
     "data": {
      "text/plain": [
       "array([0.11981209, 0.18783652, 0.22978658, 0.26341166, 0.29309699,\n",
       "       0.32096036, 0.34615863, 0.37018642, 0.39288233, 0.4139717 ,\n",
       "       0.43203019, 0.44786818, 0.46229333, 0.47595843, 0.48892151,\n",
       "       0.50137491, 0.51216316, 0.52287975, 0.53301808, 0.54217426,\n",
       "       0.55077623, 0.55930237, 0.56732985, 0.57528061, 0.58255467,\n",
       "       0.58971868, 0.59659928, 0.60317865, 0.60969622, 0.61583576,\n",
       "       0.62180412, 0.62758712, 0.63305729, 0.63837313, 0.64342951,\n",
       "       0.64839667, 0.65320178, 0.65792701, 0.66255006, 0.66708503,\n",
       "       0.67142046, 0.67570121, 0.67990594, 0.68405179, 0.6881781 ,\n",
       "       0.69212525, 0.69601766, 0.69979194, 0.70346478, 0.70709962,\n",
       "       0.71063087, 0.71410517, 0.71743727, 0.72073475, 0.72397094,\n",
       "       0.72711942, 0.73019727, 0.73325445, 0.73619701, 0.73909631,\n",
       "       0.74198861, 0.74482125, 0.74759659, 0.75030818, 0.75298924,\n",
       "       0.75565874, 0.75828488, 0.76086094, 0.76343457, 0.76593635])"
      ]
     },
     "execution_count": 51,
     "metadata": {},
     "output_type": "execute_result"
    }
   ],
   "source": [
    "np.cumsum(pca2.explained_variance_ratio_)[:70]"
   ]
  },
  {
   "cell_type": "code",
   "execution_count": null,
   "id": "03599566-7996-471d-a62c-bc21a854430a",
   "metadata": {
    "colab": {
     "base_uri": "https://localhost:8080/",
     "height": 514
    },
    "id": "AobICS7UsEyy",
    "outputId": "4f8bac53-97d3-4ec7-8009-e6f76a3e7b9f"
   },
   "outputs": [
    {
     "name": "stdout",
     "output_type": "stream",
     "text": [
      "As we can see, the 70% treshold of the total variance is crossed by 49 so we are gonna take the first 49 components\n"
     ]
    },
    {
     "data": {
      "image/png": "[encoded data removed]",
      "text/plain": [
       "<Figure size 1152x576 with 1 Axes>"
      ]
     },
     "metadata": {
      "needs_background": "light"
     },
     "output_type": "display_data"
    }
   ],
   "source": [
    "cumulatevariance = np.cumsum(pca2.explained_variance_ratio_)\n",
    "cumulatevariance = cumulatevariance[cumulatevariance <= 0.7019].tolist() \n",
    "#we are gonna take the number of components (n) by taking the length of the first variance ratio that are at least 70%\n",
    "n2 = len(cumulatevariance)+1 \n",
    "plt.figure(figsize=(16,8))\n",
    "plt.plot(np.cumsum(pca2.explained_variance_ratio_))\n",
    "plt.xlabel('number of components')\n",
    "plt.ylabel('cumulative explained variance')\n",
    "plt.xlim((0,100))\n",
    "plt.axvline(n2, color = 'orange');\n",
    "print('As we can see, the 70% treshold of the total variance is crossed by', n2, 'so we are gonna take the first', n2 , 'components')"
   ]
  },
  {
   "cell_type": "code",
   "execution_count": null,
   "id": "6bd75d21-0f7f-4382-8071-2fc78c5e1fbf",
   "metadata": {
    "id": "op858PF5s7ER"
   },
   "outputs": [],
   "source": [
    "dataset2 = pd.DataFrame(pca2.transform(x2))\n",
    "dataset2 = dataset2.iloc[0:, :n2]"
   ]
  },
  {
   "cell_type": "code",
   "execution_count": null,
   "id": "54526c7d-4d3e-4127-8bf5-62bebac56d84",
   "metadata": {
    "colab": {
     "base_uri": "https://localhost:8080/",
     "height": 462
    },
    "id": "Yvr5vtp8yt1i",
    "outputId": "2dfb362d-6d83-4433-a7af-0d524173eece"
   },
   "outputs": [
    {
     "data": {
      "image/png": "[encoded data removed]",
      "text/plain": [
       "<Figure size 960x480 with 1 Axes>"
      ]
     },
     "metadata": {
      "needs_background": "light"
     },
     "output_type": "display_data"
    },
    {
     "data": {
      "text/plain": [
       "<matplotlib.axes._subplots.AxesSubplot at 0x7f16791f5990>"
      ]
     },
     "execution_count": 12,
     "metadata": {},
     "output_type": "execute_result"
    }
   ],
   "source": [
    "## Metric = distortion\n",
    "\n",
    "figure(figsize = (12, 6), dpi = 80)\n",
    "\n",
    "model = KMeans(init = 'k-means++')\n",
    "\n",
    "visualizer = KElbowVisualizer(model, k = (2,20), metric = 'distortion', timings = False)\n",
    "\n",
    "visualizer.fit(dataset2)\n",
    "\n",
    "visualizer.show()"
   ]
  },
  {
   "cell_type": "code",
   "execution_count": null,
   "id": "40dda3fe-9263-45bc-8bc7-4987c57d31eb",
   "metadata": {
    "colab": {
     "base_uri": "https://localhost:8080/",
     "height": 462
    },
    "id": "j3vKh-KMrEOl",
    "outputId": "9c3463cb-1624-491b-8d03-40489dc3d09c"
   },
   "outputs": [
    {
     "data": {
      "image/png": "[encoded data removed]",
      "text/plain": [
       "<Figure size 960x480 with 1 Axes>"
      ]
     },
     "metadata": {},
     "output_type": "display_data"
    },
    {
     "data": {
      "text/plain": [
       "<matplotlib.axes._subplots.AxesSubplot at 0x7fdd5d76ac10>"
      ]
     },
     "execution_count": 95,
     "metadata": {},
     "output_type": "execute_result"
    }
   ],
   "source": [
    "## Metric = 'calinski_harabasz'\n",
    "\n",
    "figure(figsize = (12, 6), dpi = 80)\n",
    "\n",
    "model = KMeans(init = 'k-means++')\n",
    "\n",
    "visualizer = KElbowVisualizer(model, k = (2,20), metric = 'calinski_harabasz', timings = False)\n",
    "\n",
    "visualizer.fit(dataset2)\n",
    "\n",
    "visualizer.show()"
   ]
  },
  {
   "cell_type": "markdown",
   "id": "c1add490-3f3d-4076-a79a-f898c244c3fc",
   "metadata": {
    "id": "4YC_R_E8ufxD"
   },
   "source": [
    "We choose 10 as the optimal value of K based on the use of the Elbow method\n"
   ]
  },
  {
   "cell_type": "code",
   "execution_count": null,
   "id": "3e8977a0-ae64-47cc-a214-84b105fee383",
   "metadata": {
    "colab": {
     "base_uri": "https://localhost:8080/"
    },
    "id": "hJXSFrEEx9wX",
    "outputId": "62ccf2c4-ae7d-4740-ddad-e64bf27021d5"
   },
   "outputs": [
    {
     "data": {
      "text/plain": [
       "KMeans(n_clusters=10)"
      ]
     },
     "execution_count": 14,
     "metadata": {},
     "output_type": "execute_result"
    }
   ],
   "source": [
    "clusters_10 = KMeans(init = 'k-means++', n_clusters = 10)\n",
    "clusters_10.fit(dataset2)"
   ]
  },
  {
   "cell_type": "code",
   "execution_count": null,
   "id": "f6512961-3d4d-453b-b8b2-e6d5b6f7d3e9",
   "metadata": {
    "colab": {
     "base_uri": "https://localhost:8080/",
     "height": 394
    },
    "id": "V5-PQlXD6-no",
    "outputId": "5f1e8d7b-de41-4ce8-c752-df5d5af96741"
   },
   "outputs": [
    {
     "data": {
      "text/html": [
       "<div>\n",
       "<style scoped>\n",
       "    .dataframe tbody tr th:only-of-type {\n",
       "        vertical-align: middle;\n",
       "    }\n",
       "\n",
       "    .dataframe tbody tr th {\n",
       "        vertical-align: top;\n",
       "    }\n",
       "\n",
       "    .dataframe thead th {\n",
       "        text-align: right;\n",
       "    }\n",
       "</style>\n",
       "<table border=\"1\" class=\"dataframe\">\n",
       "  <thead>\n",
       "    <tr style=\"text-align: right;\">\n",
       "      <th></th>\n",
       "      <th>chroma_mean</th>\n",
       "      <th>rmse_median</th>\n",
       "      <th>tonnetz_mean</th>\n",
       "      <th>spectral_bandwidth</th>\n",
       "      <th>duration</th>\n",
       "      <th>bit_rate</th>\n",
       "    </tr>\n",
       "  </thead>\n",
       "  <tbody>\n",
       "    <tr>\n",
       "      <th>0</th>\n",
       "      <td>0.883210</td>\n",
       "      <td>2.653895</td>\n",
       "      <td>-0.002570</td>\n",
       "      <td>1607.474365</td>\n",
       "      <td>168</td>\n",
       "      <td>256000</td>\n",
       "    </tr>\n",
       "    <tr>\n",
       "      <th>1</th>\n",
       "      <td>0.525373</td>\n",
       "      <td>3.706424</td>\n",
       "      <td>0.000183</td>\n",
       "      <td>1736.961426</td>\n",
       "      <td>237</td>\n",
       "      <td>256000</td>\n",
       "    </tr>\n",
       "    <tr>\n",
       "      <th>2</th>\n",
       "      <td>0.535632</td>\n",
       "      <td>2.409692</td>\n",
       "      <td>-0.007501</td>\n",
       "      <td>1512.917358</td>\n",
       "      <td>206</td>\n",
       "      <td>256000</td>\n",
       "    </tr>\n",
       "    <tr>\n",
       "      <th>3</th>\n",
       "      <td>0.519918</td>\n",
       "      <td>3.756495</td>\n",
       "      <td>-0.021650</td>\n",
       "      <td>1420.259644</td>\n",
       "      <td>161</td>\n",
       "      <td>192000</td>\n",
       "    </tr>\n",
       "    <tr>\n",
       "      <th>4</th>\n",
       "      <td>0.443509</td>\n",
       "      <td>4.367132</td>\n",
       "      <td>0.012362</td>\n",
       "      <td>2489.015625</td>\n",
       "      <td>311</td>\n",
       "      <td>256000</td>\n",
       "    </tr>\n",
       "    <tr>\n",
       "      <th>5</th>\n",
       "      <td>0.520632</td>\n",
       "      <td>4.758019</td>\n",
       "      <td>0.001712</td>\n",
       "      <td>1103.508057</td>\n",
       "      <td>181</td>\n",
       "      <td>256000</td>\n",
       "    </tr>\n",
       "    <tr>\n",
       "      <th>6</th>\n",
       "      <td>0.485450</td>\n",
       "      <td>4.646678</td>\n",
       "      <td>0.002661</td>\n",
       "      <td>2369.657227</td>\n",
       "      <td>174</td>\n",
       "      <td>256000</td>\n",
       "    </tr>\n",
       "    <tr>\n",
       "      <th>7</th>\n",
       "      <td>0.731028</td>\n",
       "      <td>3.751399</td>\n",
       "      <td>0.007654</td>\n",
       "      <td>1398.827637</td>\n",
       "      <td>104</td>\n",
       "      <td>256000</td>\n",
       "    </tr>\n",
       "    <tr>\n",
       "      <th>8</th>\n",
       "      <td>0.426277</td>\n",
       "      <td>4.371153</td>\n",
       "      <td>0.002270</td>\n",
       "      <td>1773.881348</td>\n",
       "      <td>205</td>\n",
       "      <td>256000</td>\n",
       "    </tr>\n",
       "    <tr>\n",
       "      <th>9</th>\n",
       "      <td>0.541520</td>\n",
       "      <td>2.912786</td>\n",
       "      <td>0.007164</td>\n",
       "      <td>1314.968628</td>\n",
       "      <td>207</td>\n",
       "      <td>256000</td>\n",
       "    </tr>\n",
       "    <tr>\n",
       "      <th>10</th>\n",
       "      <td>0.330819</td>\n",
       "      <td>6.431771</td>\n",
       "      <td>-0.004043</td>\n",
       "      <td>1440.009277</td>\n",
       "      <td>837</td>\n",
       "      <td>256000</td>\n",
       "    </tr>\n",
       "  </tbody>\n",
       "</table>\n",
       "</div>"
      ],
      "text/plain": [
       "    chroma_mean  rmse_median  ...  duration  bit_rate\n",
       "0      0.883210     2.653895  ...       168    256000\n",
       "1      0.525373     3.706424  ...       237    256000\n",
       "2      0.535632     2.409692  ...       206    256000\n",
       "3      0.519918     3.756495  ...       161    192000\n",
       "4      0.443509     4.367132  ...       311    256000\n",
       "5      0.520632     4.758019  ...       181    256000\n",
       "6      0.485450     4.646678  ...       174    256000\n",
       "7      0.731028     3.751399  ...       104    256000\n",
       "8      0.426277     4.371153  ...       205    256000\n",
       "9      0.541520     2.912786  ...       207    256000\n",
       "10     0.330819     6.431771  ...       837    256000\n",
       "\n",
       "[11 rows x 6 columns]"
      ]
     },
     "execution_count": 15,
     "metadata": {},
     "output_type": "execute_result"
    }
   ],
   "source": [
    "Identifiers2 = df2.loc[:, ('chroma_cqt_mean_01','rmse_median_01','tonnetz_mean_01','spectral_bandwidth_mean_01')]\n",
    "Identifiers2['track_duration'] = df3.loc[:, ('track_duration')]\n",
    "Identifiers2['track_bit_rate'] = df3.loc[:, ('track_bit_rate')]\n",
    "\n",
    "\n",
    "Identifiers2 = Identifiers2.rename(columns={'chroma_cqt_mean_01':'chroma_mean', 'rmse_median_01':'rmse_median',\n",
    "                           'tonnetz_mean_01':'tonnetz_mean', 'spectral_bandwidth_mean_01':'spectral_bandwidth', \n",
    "                           'track_duration': 'duration', 'track_bit_rate':'bit_rate'})\n",
    "Identifiers2.head(11)"
   ]
  },
  {
   "cell_type": "code",
   "execution_count": null,
   "id": "8a0fe279-f092-48dd-af51-3545f7a6db5f",
   "metadata": {
    "id": "kCdudHgpxCgt"
   },
   "outputs": [],
   "source": [
    "#CATEGORIZATION OF DATA\n",
    "for i in Identifiers2.columns:\n",
    "    Identifiers2[i] = pd.qcut(Identifiers2[i], q = 4)"
   ]
  },
  {
   "cell_type": "code",
   "execution_count": null,
   "id": "de1f3dd5-7546-4bc0-88f3-3489acb7d4c6",
   "metadata": {
    "id": "14J2nw2i9hhb"
   },
   "outputs": [],
   "source": [
    "label_10 = clusters_10.labels_ +1"
   ]
  },
  {
   "cell_type": "code",
   "execution_count": null,
   "id": "df7e3139-dd64-4a3d-8c91-23e07615641d",
   "metadata": {
    "colab": {
     "base_uri": "https://localhost:8080/",
     "height": 175
    },
    "id": "aA0J7WgbwsTS",
    "outputId": "40f209eb-26f0-45d2-f9cd-3aeb6494aca1"
   },
   "outputs": [
    {
     "data": {
      "text/html": [
       "<div>\n",
       "<style scoped>\n",
       "    .dataframe tbody tr th:only-of-type {\n",
       "        vertical-align: middle;\n",
       "    }\n",
       "\n",
       "    .dataframe tbody tr th {\n",
       "        vertical-align: top;\n",
       "    }\n",
       "\n",
       "    .dataframe thead th {\n",
       "        text-align: right;\n",
       "    }\n",
       "</style>\n",
       "<table border=\"1\" class=\"dataframe\">\n",
       "  <thead>\n",
       "    <tr style=\"text-align: right;\">\n",
       "      <th>col_0</th>\n",
       "      <th>1</th>\n",
       "      <th>2</th>\n",
       "      <th>3</th>\n",
       "      <th>4</th>\n",
       "      <th>5</th>\n",
       "      <th>6</th>\n",
       "      <th>7</th>\n",
       "      <th>8</th>\n",
       "      <th>9</th>\n",
       "      <th>10</th>\n",
       "    </tr>\n",
       "  </thead>\n",
       "  <tbody>\n",
       "    <tr>\n",
       "      <th>Category 1</th>\n",
       "      <td>30.23</td>\n",
       "      <td>27.26</td>\n",
       "      <td>25.82</td>\n",
       "      <td>19.79</td>\n",
       "      <td>26.93</td>\n",
       "      <td>24.20</td>\n",
       "      <td>0.0</td>\n",
       "      <td>18.84</td>\n",
       "      <td>25.24</td>\n",
       "      <td>0.0</td>\n",
       "    </tr>\n",
       "    <tr>\n",
       "      <th>Category 2</th>\n",
       "      <td>25.68</td>\n",
       "      <td>25.34</td>\n",
       "      <td>21.64</td>\n",
       "      <td>36.08</td>\n",
       "      <td>30.81</td>\n",
       "      <td>24.86</td>\n",
       "      <td>60.0</td>\n",
       "      <td>17.69</td>\n",
       "      <td>20.85</td>\n",
       "      <td>0.0</td>\n",
       "    </tr>\n",
       "    <tr>\n",
       "      <th>Category 3</th>\n",
       "      <td>43.72</td>\n",
       "      <td>46.64</td>\n",
       "      <td>52.06</td>\n",
       "      <td>43.78</td>\n",
       "      <td>41.86</td>\n",
       "      <td>50.56</td>\n",
       "      <td>40.0</td>\n",
       "      <td>62.83</td>\n",
       "      <td>53.40</td>\n",
       "      <td>100.0</td>\n",
       "    </tr>\n",
       "    <tr>\n",
       "      <th>Category 4</th>\n",
       "      <td>0.37</td>\n",
       "      <td>0.76</td>\n",
       "      <td>0.48</td>\n",
       "      <td>0.35</td>\n",
       "      <td>0.40</td>\n",
       "      <td>0.38</td>\n",
       "      <td>0.0</td>\n",
       "      <td>0.64</td>\n",
       "      <td>0.51</td>\n",
       "      <td>0.0</td>\n",
       "    </tr>\n",
       "  </tbody>\n",
       "</table>\n",
       "</div>"
      ],
      "text/plain": [
       "col_0          1      2      3      4      5      6     7      8      9      10\n",
       "Category 1  30.23  27.26  25.82  19.79  26.93  24.20   0.0  18.84  25.24    0.0\n",
       "Category 2  25.68  25.34  21.64  36.08  30.81  24.86  60.0  17.69  20.85    0.0\n",
       "Category 3  43.72  46.64  52.06  43.78  41.86  50.56  40.0  62.83  53.40  100.0\n",
       "Category 4   0.37   0.76   0.48   0.35   0.40   0.38   0.0   0.64   0.51    0.0"
      ]
     },
     "execution_count": 18,
     "metadata": {},
     "output_type": "execute_result"
    }
   ],
   "source": [
    "pivot_bit = round(pd.crosstab(index=Identifiers2['bit_rate'], columns=label_10, normalize='columns')*100, 2)\n",
    "\n",
    "## Index Row\n",
    "pivot_bit.index = ['Category 1', 'Category 2', 'Category 3', 'Category 4']\n",
    "pivot_bit"
   ]
  },
  {
   "cell_type": "markdown",
   "id": "2891cbd1-93fc-45e1-ab99-e391c7210c27",
   "metadata": {
    "id": "TUqc-M5poPES"
   },
   "source": [
    "The bit rate is low for every cluster, but it's higher for the clusters 8 and 6: this cluster maybe has more 'Electronic' and 'Instrumental' features, because these genres have usually more bits."
   ]
  },
  {
   "cell_type": "code",
   "execution_count": null,
   "id": "6f4f6362-84d8-4168-923a-95354de23ccb",
   "metadata": {
    "colab": {
     "base_uri": "https://localhost:8080/",
     "height": 175
    },
    "id": "zXgiFc1gwyAW",
    "outputId": "51d40c38-b0ac-4db3-b0bc-243130c5e2ec"
   },
   "outputs": [
    {
     "data": {
      "text/html": [
       "<div>\n",
       "<style scoped>\n",
       "    .dataframe tbody tr th:only-of-type {\n",
       "        vertical-align: middle;\n",
       "    }\n",
       "\n",
       "    .dataframe tbody tr th {\n",
       "        vertical-align: top;\n",
       "    }\n",
       "\n",
       "    .dataframe thead th {\n",
       "        text-align: right;\n",
       "    }\n",
       "</style>\n",
       "<table border=\"1\" class=\"dataframe\">\n",
       "  <thead>\n",
       "    <tr style=\"text-align: right;\">\n",
       "      <th>col_0</th>\n",
       "      <th>1</th>\n",
       "      <th>2</th>\n",
       "      <th>3</th>\n",
       "      <th>4</th>\n",
       "      <th>5</th>\n",
       "      <th>6</th>\n",
       "      <th>7</th>\n",
       "      <th>8</th>\n",
       "      <th>9</th>\n",
       "      <th>10</th>\n",
       "    </tr>\n",
       "  </thead>\n",
       "  <tbody>\n",
       "    <tr>\n",
       "      <th>Category 1</th>\n",
       "      <td>34.05</td>\n",
       "      <td>50.31</td>\n",
       "      <td>25.11</td>\n",
       "      <td>67.08</td>\n",
       "      <td>27.04</td>\n",
       "      <td>17.19</td>\n",
       "      <td>40.0</td>\n",
       "      <td>18.52</td>\n",
       "      <td>15.76</td>\n",
       "      <td>0.0</td>\n",
       "    </tr>\n",
       "    <tr>\n",
       "      <th>Category 2</th>\n",
       "      <td>25.62</td>\n",
       "      <td>20.17</td>\n",
       "      <td>19.57</td>\n",
       "      <td>10.16</td>\n",
       "      <td>29.59</td>\n",
       "      <td>25.59</td>\n",
       "      <td>20.0</td>\n",
       "      <td>23.28</td>\n",
       "      <td>23.82</td>\n",
       "      <td>0.0</td>\n",
       "    </tr>\n",
       "    <tr>\n",
       "      <th>Category 3</th>\n",
       "      <td>19.57</td>\n",
       "      <td>15.16</td>\n",
       "      <td>20.79</td>\n",
       "      <td>9.98</td>\n",
       "      <td>23.64</td>\n",
       "      <td>29.99</td>\n",
       "      <td>20.0</td>\n",
       "      <td>29.12</td>\n",
       "      <td>29.08</td>\n",
       "      <td>100.0</td>\n",
       "    </tr>\n",
       "    <tr>\n",
       "      <th>Category 4</th>\n",
       "      <td>20.76</td>\n",
       "      <td>14.36</td>\n",
       "      <td>34.53</td>\n",
       "      <td>12.78</td>\n",
       "      <td>19.73</td>\n",
       "      <td>27.24</td>\n",
       "      <td>20.0</td>\n",
       "      <td>29.09</td>\n",
       "      <td>31.34</td>\n",
       "      <td>0.0</td>\n",
       "    </tr>\n",
       "  </tbody>\n",
       "</table>\n",
       "</div>"
      ],
      "text/plain": [
       "col_0          1      2      3      4      5      6     7      8      9      10\n",
       "Category 1  34.05  50.31  25.11  67.08  27.04  17.19  40.0  18.52  15.76    0.0\n",
       "Category 2  25.62  20.17  19.57  10.16  29.59  25.59  20.0  23.28  23.82    0.0\n",
       "Category 3  19.57  15.16  20.79   9.98  23.64  29.99  20.0  29.12  29.08  100.0\n",
       "Category 4  20.76  14.36  34.53  12.78  19.73  27.24  20.0  29.09  31.34    0.0"
      ]
     },
     "execution_count": 19,
     "metadata": {},
     "output_type": "execute_result"
    }
   ],
   "source": [
    "pivot_dur = round(pd.crosstab(index=Identifiers2['duration'], columns=label_10, normalize='columns')*100, 2)\n",
    "\n",
    "\n",
    "## Index Row\n",
    "pivot_dur.index = ['Category 1', 'Category 2', 'Category 3', 'Category 4']\n",
    "pivot_dur"
   ]
  },
  {
   "cell_type": "markdown",
   "id": "c04da72f-b136-493a-bd9c-1ed7a784ab5e",
   "metadata": {
    "id": "44FRcJeVpN7s"
   },
   "source": [
    "The lowest values of the duration is contained into the cluster 4 this explains that the main genre of the cluster may be something popular (like Pop/Electronic), because the pop songs are usually shorter than the other songs.\n",
    "\n",
    "However, we find the highest value in the number 8\n"
   ]
  },
  {
   "cell_type": "code",
   "execution_count": null,
   "id": "c9dbbecb-4b51-4ae1-82ef-ba15404e1af7",
   "metadata": {
    "colab": {
     "base_uri": "https://localhost:8080/",
     "height": 175
    },
    "id": "v-mhJN43wx37",
    "outputId": "efcfe95d-62fc-4674-e42c-fe3bf7d846d1"
   },
   "outputs": [
    {
     "data": {
      "text/html": [
       "<div>\n",
       "<style scoped>\n",
       "    .dataframe tbody tr th:only-of-type {\n",
       "        vertical-align: middle;\n",
       "    }\n",
       "\n",
       "    .dataframe tbody tr th {\n",
       "        vertical-align: top;\n",
       "    }\n",
       "\n",
       "    .dataframe thead th {\n",
       "        text-align: right;\n",
       "    }\n",
       "</style>\n",
       "<table border=\"1\" class=\"dataframe\">\n",
       "  <thead>\n",
       "    <tr style=\"text-align: right;\">\n",
       "      <th>col_0</th>\n",
       "      <th>1</th>\n",
       "      <th>2</th>\n",
       "      <th>3</th>\n",
       "      <th>4</th>\n",
       "      <th>5</th>\n",
       "      <th>6</th>\n",
       "      <th>7</th>\n",
       "      <th>8</th>\n",
       "      <th>9</th>\n",
       "      <th>10</th>\n",
       "    </tr>\n",
       "  </thead>\n",
       "  <tbody>\n",
       "    <tr>\n",
       "      <th>Category 1</th>\n",
       "      <td>37.08</td>\n",
       "      <td>7.63</td>\n",
       "      <td>48.46</td>\n",
       "      <td>28.02</td>\n",
       "      <td>14.73</td>\n",
       "      <td>44.90</td>\n",
       "      <td>100.0</td>\n",
       "      <td>19.56</td>\n",
       "      <td>12.27</td>\n",
       "      <td>100.0</td>\n",
       "    </tr>\n",
       "    <tr>\n",
       "      <th>Category 2</th>\n",
       "      <td>26.32</td>\n",
       "      <td>11.94</td>\n",
       "      <td>29.06</td>\n",
       "      <td>9.11</td>\n",
       "      <td>27.55</td>\n",
       "      <td>28.97</td>\n",
       "      <td>0.0</td>\n",
       "      <td>19.68</td>\n",
       "      <td>25.52</td>\n",
       "      <td>0.0</td>\n",
       "    </tr>\n",
       "    <tr>\n",
       "      <th>Category 3</th>\n",
       "      <td>19.33</td>\n",
       "      <td>23.90</td>\n",
       "      <td>15.02</td>\n",
       "      <td>7.71</td>\n",
       "      <td>32.70</td>\n",
       "      <td>16.85</td>\n",
       "      <td>0.0</td>\n",
       "      <td>23.10</td>\n",
       "      <td>33.66</td>\n",
       "      <td>0.0</td>\n",
       "    </tr>\n",
       "    <tr>\n",
       "      <th>Category 4</th>\n",
       "      <td>17.28</td>\n",
       "      <td>56.53</td>\n",
       "      <td>7.46</td>\n",
       "      <td>55.17</td>\n",
       "      <td>25.02</td>\n",
       "      <td>9.27</td>\n",
       "      <td>0.0</td>\n",
       "      <td>37.66</td>\n",
       "      <td>28.55</td>\n",
       "      <td>0.0</td>\n",
       "    </tr>\n",
       "  </tbody>\n",
       "</table>\n",
       "</div>"
      ],
      "text/plain": [
       "col_0          1      2      3      4   ...     7      8      9      10\n",
       "Category 1  37.08   7.63  48.46  28.02  ...  100.0  19.56  12.27  100.0\n",
       "Category 2  26.32  11.94  29.06   9.11  ...    0.0  19.68  25.52    0.0\n",
       "Category 3  19.33  23.90  15.02   7.71  ...    0.0  23.10  33.66    0.0\n",
       "Category 4  17.28  56.53   7.46  55.17  ...    0.0  37.66  28.55    0.0\n",
       "\n",
       "[4 rows x 10 columns]"
      ]
     },
     "execution_count": 20,
     "metadata": {},
     "output_type": "execute_result"
    }
   ],
   "source": [
    "pivot_chr = round(pd.crosstab(index=Identifiers2['chroma_mean'], columns=label_10, normalize='columns')*100, 2)\n",
    "\n",
    "pivot_chr.index = ['Category 1', 'Category 2', 'Category 3', 'Category 4']\n",
    "pivot_chr"
   ]
  },
  {
   "cell_type": "code",
   "execution_count": null,
   "id": "c3f8b0a7-3df0-4a53-8067-f8e21143e353",
   "metadata": {
    "colab": {
     "base_uri": "https://localhost:8080/",
     "height": 175
    },
    "id": "087K8QPDwxvf",
    "outputId": "99ba6745-9ba2-4f92-fbdf-df64c76fe4fe"
   },
   "outputs": [
    {
     "data": {
      "text/html": [
       "<div>\n",
       "<style scoped>\n",
       "    .dataframe tbody tr th:only-of-type {\n",
       "        vertical-align: middle;\n",
       "    }\n",
       "\n",
       "    .dataframe tbody tr th {\n",
       "        vertical-align: top;\n",
       "    }\n",
       "\n",
       "    .dataframe thead th {\n",
       "        text-align: right;\n",
       "    }\n",
       "</style>\n",
       "<table border=\"1\" class=\"dataframe\">\n",
       "  <thead>\n",
       "    <tr style=\"text-align: right;\">\n",
       "      <th>col_0</th>\n",
       "      <th>1</th>\n",
       "      <th>2</th>\n",
       "      <th>3</th>\n",
       "      <th>4</th>\n",
       "      <th>5</th>\n",
       "      <th>6</th>\n",
       "      <th>7</th>\n",
       "      <th>8</th>\n",
       "      <th>9</th>\n",
       "      <th>10</th>\n",
       "    </tr>\n",
       "  </thead>\n",
       "  <tbody>\n",
       "    <tr>\n",
       "      <th>Category 1</th>\n",
       "      <td>24.59</td>\n",
       "      <td>25.02</td>\n",
       "      <td>26.67</td>\n",
       "      <td>36.60</td>\n",
       "      <td>18.73</td>\n",
       "      <td>26.09</td>\n",
       "      <td>0.0</td>\n",
       "      <td>34.59</td>\n",
       "      <td>24.34</td>\n",
       "      <td>0.0</td>\n",
       "    </tr>\n",
       "    <tr>\n",
       "      <th>Category 2</th>\n",
       "      <td>16.44</td>\n",
       "      <td>26.70</td>\n",
       "      <td>24.38</td>\n",
       "      <td>28.02</td>\n",
       "      <td>23.92</td>\n",
       "      <td>21.85</td>\n",
       "      <td>60.0</td>\n",
       "      <td>27.48</td>\n",
       "      <td>33.38</td>\n",
       "      <td>0.0</td>\n",
       "    </tr>\n",
       "    <tr>\n",
       "      <th>Category 3</th>\n",
       "      <td>19.43</td>\n",
       "      <td>25.41</td>\n",
       "      <td>26.00</td>\n",
       "      <td>11.21</td>\n",
       "      <td>28.72</td>\n",
       "      <td>23.87</td>\n",
       "      <td>40.0</td>\n",
       "      <td>22.38</td>\n",
       "      <td>26.91</td>\n",
       "      <td>0.0</td>\n",
       "    </tr>\n",
       "    <tr>\n",
       "      <th>Category 4</th>\n",
       "      <td>39.53</td>\n",
       "      <td>22.88</td>\n",
       "      <td>22.94</td>\n",
       "      <td>24.17</td>\n",
       "      <td>28.63</td>\n",
       "      <td>28.19</td>\n",
       "      <td>0.0</td>\n",
       "      <td>15.55</td>\n",
       "      <td>15.37</td>\n",
       "      <td>100.0</td>\n",
       "    </tr>\n",
       "  </tbody>\n",
       "</table>\n",
       "</div>"
      ],
      "text/plain": [
       "col_0          1      2      3      4      5      6     7      8      9      10\n",
       "Category 1  24.59  25.02  26.67  36.60  18.73  26.09   0.0  34.59  24.34    0.0\n",
       "Category 2  16.44  26.70  24.38  28.02  23.92  21.85  60.0  27.48  33.38    0.0\n",
       "Category 3  19.43  25.41  26.00  11.21  28.72  23.87  40.0  22.38  26.91    0.0\n",
       "Category 4  39.53  22.88  22.94  24.17  28.63  28.19   0.0  15.55  15.37  100.0"
      ]
     },
     "execution_count": 21,
     "metadata": {},
     "output_type": "execute_result"
    }
   ],
   "source": [
    "pivot_ton = round(pd.crosstab(index=Identifiers2['tonnetz_mean'], columns=label_10, normalize='columns')*100, 2)\n",
    "\n",
    "pivot_ton.index = ['Category 1', 'Category 2', 'Category 3', 'Category 4']\n",
    "pivot_ton"
   ]
  },
  {
   "cell_type": "markdown",
   "id": "19c03db8-4368-49e6-a70d-2a63a1985695",
   "metadata": {
    "id": "ggubkx2Qle4z"
   },
   "source": [
    "The intonation has normal values for every cluster (except for 6 and 10, that we can skip)"
   ]
  },
  {
   "cell_type": "code",
   "execution_count": null,
   "id": "39d583a7-e13f-42ae-ac24-af75882ebb94",
   "metadata": {
    "colab": {
     "base_uri": "https://localhost:8080/",
     "height": 175
    },
    "id": "R8EdPuUFwxeG",
    "outputId": "c9b5a402-8815-4d4a-ff5a-e67141651529"
   },
   "outputs": [
    {
     "data": {
      "text/html": [
       "<div>\n",
       "<style scoped>\n",
       "    .dataframe tbody tr th:only-of-type {\n",
       "        vertical-align: middle;\n",
       "    }\n",
       "\n",
       "    .dataframe tbody tr th {\n",
       "        vertical-align: top;\n",
       "    }\n",
       "\n",
       "    .dataframe thead th {\n",
       "        text-align: right;\n",
       "    }\n",
       "</style>\n",
       "<table border=\"1\" class=\"dataframe\">\n",
       "  <thead>\n",
       "    <tr style=\"text-align: right;\">\n",
       "      <th>col_0</th>\n",
       "      <th>1</th>\n",
       "      <th>2</th>\n",
       "      <th>3</th>\n",
       "      <th>4</th>\n",
       "      <th>5</th>\n",
       "      <th>6</th>\n",
       "      <th>7</th>\n",
       "      <th>8</th>\n",
       "      <th>9</th>\n",
       "      <th>10</th>\n",
       "    </tr>\n",
       "  </thead>\n",
       "  <tbody>\n",
       "    <tr>\n",
       "      <th>Category 1</th>\n",
       "      <td>69.66</td>\n",
       "      <td>20.73</td>\n",
       "      <td>41.52</td>\n",
       "      <td>29.42</td>\n",
       "      <td>14.74</td>\n",
       "      <td>31.31</td>\n",
       "      <td>80.0</td>\n",
       "      <td>12.03</td>\n",
       "      <td>5.51</td>\n",
       "      <td>100.0</td>\n",
       "    </tr>\n",
       "    <tr>\n",
       "      <th>Category 2</th>\n",
       "      <td>19.22</td>\n",
       "      <td>22.17</td>\n",
       "      <td>25.79</td>\n",
       "      <td>16.99</td>\n",
       "      <td>32.18</td>\n",
       "      <td>33.56</td>\n",
       "      <td>0.0</td>\n",
       "      <td>16.11</td>\n",
       "      <td>18.40</td>\n",
       "      <td>0.0</td>\n",
       "    </tr>\n",
       "    <tr>\n",
       "      <th>Category 3</th>\n",
       "      <td>7.66</td>\n",
       "      <td>23.82</td>\n",
       "      <td>19.24</td>\n",
       "      <td>11.73</td>\n",
       "      <td>31.82</td>\n",
       "      <td>23.76</td>\n",
       "      <td>0.0</td>\n",
       "      <td>26.60</td>\n",
       "      <td>31.48</td>\n",
       "      <td>0.0</td>\n",
       "    </tr>\n",
       "    <tr>\n",
       "      <th>Category 4</th>\n",
       "      <td>3.46</td>\n",
       "      <td>33.27</td>\n",
       "      <td>13.45</td>\n",
       "      <td>41.86</td>\n",
       "      <td>21.27</td>\n",
       "      <td>11.37</td>\n",
       "      <td>20.0</td>\n",
       "      <td>45.26</td>\n",
       "      <td>44.60</td>\n",
       "      <td>0.0</td>\n",
       "    </tr>\n",
       "  </tbody>\n",
       "</table>\n",
       "</div>"
      ],
      "text/plain": [
       "col_0          1      2      3      4      5      6     7      8      9      10\n",
       "Category 1  69.66  20.73  41.52  29.42  14.74  31.31  80.0  12.03   5.51  100.0\n",
       "Category 2  19.22  22.17  25.79  16.99  32.18  33.56   0.0  16.11  18.40    0.0\n",
       "Category 3   7.66  23.82  19.24  11.73  31.82  23.76   0.0  26.60  31.48    0.0\n",
       "Category 4   3.46  33.27  13.45  41.86  21.27  11.37  20.0  45.26  44.60    0.0"
      ]
     },
     "execution_count": 22,
     "metadata": {},
     "output_type": "execute_result"
    }
   ],
   "source": [
    "pivot_spe = round(pd.crosstab(index=Identifiers2['spectral_bandwidth'], columns=label_10, normalize='columns')*100, 2)\n",
    "\n",
    "pivot_spe.index = ['Category 1', 'Category 2', 'Category 3', 'Category 4']\n",
    "pivot_spe"
   ]
  },
  {
   "cell_type": "markdown",
   "id": "1016b9b8-f7ed-459a-8d9e-dd2549e9c89a",
   "metadata": {
    "id": "eH0b8w2qlo9q"
   },
   "source": [
    "The spectral bandwith has low values for the cluster number 1: this cluster contains many decibel, so it may contain very loud music (such as instrumental)"
   ]
  },
  {
   "cell_type": "code",
   "execution_count": null,
   "id": "601800df-4a27-4e23-b807-0e1aa86930f4",
   "metadata": {
    "colab": {
     "base_uri": "https://localhost:8080/",
     "height": 175
    },
    "id": "1yn6mtrX_ux9",
    "outputId": "4a2103d5-3371-4007-f05f-66b3ea160331"
   },
   "outputs": [
    {
     "data": {
      "text/html": [
       "<div>\n",
       "<style scoped>\n",
       "    .dataframe tbody tr th:only-of-type {\n",
       "        vertical-align: middle;\n",
       "    }\n",
       "\n",
       "    .dataframe tbody tr th {\n",
       "        vertical-align: top;\n",
       "    }\n",
       "\n",
       "    .dataframe thead th {\n",
       "        text-align: right;\n",
       "    }\n",
       "</style>\n",
       "<table border=\"1\" class=\"dataframe\">\n",
       "  <thead>\n",
       "    <tr style=\"text-align: right;\">\n",
       "      <th>col_0</th>\n",
       "      <th>1</th>\n",
       "      <th>2</th>\n",
       "      <th>3</th>\n",
       "      <th>4</th>\n",
       "      <th>5</th>\n",
       "      <th>6</th>\n",
       "      <th>7</th>\n",
       "      <th>8</th>\n",
       "      <th>9</th>\n",
       "      <th>10</th>\n",
       "    </tr>\n",
       "  </thead>\n",
       "  <tbody>\n",
       "    <tr>\n",
       "      <th>Category 1</th>\n",
       "      <td>42.21</td>\n",
       "      <td>21.32</td>\n",
       "      <td>57.69</td>\n",
       "      <td>25.57</td>\n",
       "      <td>15.89</td>\n",
       "      <td>24.14</td>\n",
       "      <td>80.0</td>\n",
       "      <td>12.07</td>\n",
       "      <td>24.38</td>\n",
       "      <td>0.0</td>\n",
       "    </tr>\n",
       "    <tr>\n",
       "      <th>Category 2</th>\n",
       "      <td>31.28</td>\n",
       "      <td>21.66</td>\n",
       "      <td>23.87</td>\n",
       "      <td>15.76</td>\n",
       "      <td>25.91</td>\n",
       "      <td>27.73</td>\n",
       "      <td>0.0</td>\n",
       "      <td>18.56</td>\n",
       "      <td>23.66</td>\n",
       "      <td>0.0</td>\n",
       "    </tr>\n",
       "    <tr>\n",
       "      <th>Category 3</th>\n",
       "      <td>17.93</td>\n",
       "      <td>23.12</td>\n",
       "      <td>13.36</td>\n",
       "      <td>15.41</td>\n",
       "      <td>28.23</td>\n",
       "      <td>27.82</td>\n",
       "      <td>0.0</td>\n",
       "      <td>27.03</td>\n",
       "      <td>27.06</td>\n",
       "      <td>0.0</td>\n",
       "    </tr>\n",
       "    <tr>\n",
       "      <th>Category 4</th>\n",
       "      <td>8.57</td>\n",
       "      <td>33.91</td>\n",
       "      <td>5.08</td>\n",
       "      <td>43.26</td>\n",
       "      <td>29.96</td>\n",
       "      <td>20.30</td>\n",
       "      <td>20.0</td>\n",
       "      <td>42.34</td>\n",
       "      <td>24.89</td>\n",
       "      <td>100.0</td>\n",
       "    </tr>\n",
       "  </tbody>\n",
       "</table>\n",
       "</div>"
      ],
      "text/plain": [
       "col_0          1      2      3      4      5      6     7      8      9      10\n",
       "Category 1  42.21  21.32  57.69  25.57  15.89  24.14  80.0  12.07  24.38    0.0\n",
       "Category 2  31.28  21.66  23.87  15.76  25.91  27.73   0.0  18.56  23.66    0.0\n",
       "Category 3  17.93  23.12  13.36  15.41  28.23  27.82   0.0  27.03  27.06    0.0\n",
       "Category 4   8.57  33.91   5.08  43.26  29.96  20.30  20.0  42.34  24.89  100.0"
      ]
     },
     "execution_count": 23,
     "metadata": {},
     "output_type": "execute_result"
    }
   ],
   "source": [
    "pivot_rmse = round(pd.crosstab(index=Identifiers2['rmse_median'], columns=label_10, normalize='columns')*100, 2)\n",
    "\n",
    "pivot_rmse.index = ['Category 1', 'Category 2', 'Category 3', 'Category 4']\n",
    "pivot_rmse"
   ]
  },
  {
   "cell_type": "code",
   "execution_count": null,
   "id": "5b37fc04-bafb-4a52-8f01-fb4998034d9a",
   "metadata": {
    "id": "R719c1kZAQ8J"
   },
   "outputs": [],
   "source": [
    "Identifiers2['Genre'] = df3['track_genre_top']"
   ]
  },
  {
   "cell_type": "code",
   "execution_count": null,
   "id": "63bbcb9e-17d9-4377-8213-ff1fad522a8e",
   "metadata": {
    "colab": {
     "base_uri": "https://localhost:8080/",
     "height": 582
    },
    "id": "NlfTyAQZAm39",
    "outputId": "2a61f318-5c8b-430a-cf7f-f92b17acc004"
   },
   "outputs": [
    {
     "data": {
      "text/html": [
       "<div>\n",
       "<style scoped>\n",
       "    .dataframe tbody tr th:only-of-type {\n",
       "        vertical-align: middle;\n",
       "    }\n",
       "\n",
       "    .dataframe tbody tr th {\n",
       "        vertical-align: top;\n",
       "    }\n",
       "\n",
       "    .dataframe thead th {\n",
       "        text-align: right;\n",
       "    }\n",
       "</style>\n",
       "<table border=\"1\" class=\"dataframe\">\n",
       "  <thead>\n",
       "    <tr style=\"text-align: right;\">\n",
       "      <th>col_0</th>\n",
       "      <th>1</th>\n",
       "      <th>2</th>\n",
       "      <th>3</th>\n",
       "      <th>4</th>\n",
       "      <th>5</th>\n",
       "      <th>6</th>\n",
       "      <th>8</th>\n",
       "      <th>9</th>\n",
       "      <th>10</th>\n",
       "    </tr>\n",
       "    <tr>\n",
       "      <th>Genre</th>\n",
       "      <th></th>\n",
       "      <th></th>\n",
       "      <th></th>\n",
       "      <th></th>\n",
       "      <th></th>\n",
       "      <th></th>\n",
       "      <th></th>\n",
       "      <th></th>\n",
       "      <th></th>\n",
       "    </tr>\n",
       "  </thead>\n",
       "  <tbody>\n",
       "    <tr>\n",
       "      <th>Blues</th>\n",
       "      <td>0.27</td>\n",
       "      <td>0.00</td>\n",
       "      <td>0.36</td>\n",
       "      <td>0.00</td>\n",
       "      <td>0.16</td>\n",
       "      <td>0.59</td>\n",
       "      <td>0.03</td>\n",
       "      <td>0.19</td>\n",
       "      <td>0.0</td>\n",
       "    </tr>\n",
       "    <tr>\n",
       "      <th>Classical</th>\n",
       "      <td>10.67</td>\n",
       "      <td>0.04</td>\n",
       "      <td>16.23</td>\n",
       "      <td>0.00</td>\n",
       "      <td>0.15</td>\n",
       "      <td>1.73</td>\n",
       "      <td>0.13</td>\n",
       "      <td>0.33</td>\n",
       "      <td>0.0</td>\n",
       "    </tr>\n",
       "    <tr>\n",
       "      <th>Country</th>\n",
       "      <td>0.31</td>\n",
       "      <td>0.17</td>\n",
       "      <td>0.14</td>\n",
       "      <td>0.00</td>\n",
       "      <td>0.58</td>\n",
       "      <td>0.82</td>\n",
       "      <td>0.11</td>\n",
       "      <td>0.20</td>\n",
       "      <td>0.0</td>\n",
       "    </tr>\n",
       "    <tr>\n",
       "      <th>Easy Listening</th>\n",
       "      <td>0.05</td>\n",
       "      <td>0.00</td>\n",
       "      <td>0.07</td>\n",
       "      <td>0.33</td>\n",
       "      <td>0.01</td>\n",
       "      <td>0.09</td>\n",
       "      <td>0.02</td>\n",
       "      <td>0.10</td>\n",
       "      <td>0.0</td>\n",
       "    </tr>\n",
       "    <tr>\n",
       "      <th>Electronic</th>\n",
       "      <td>7.55</td>\n",
       "      <td>15.15</td>\n",
       "      <td>12.98</td>\n",
       "      <td>23.51</td>\n",
       "      <td>7.79</td>\n",
       "      <td>16.09</td>\n",
       "      <td>40.66</td>\n",
       "      <td>33.63</td>\n",
       "      <td>0.0</td>\n",
       "    </tr>\n",
       "    <tr>\n",
       "      <th>Experimental</th>\n",
       "      <td>23.99</td>\n",
       "      <td>29.40</td>\n",
       "      <td>31.88</td>\n",
       "      <td>51.99</td>\n",
       "      <td>15.75</td>\n",
       "      <td>17.44</td>\n",
       "      <td>21.55</td>\n",
       "      <td>23.12</td>\n",
       "      <td>100.0</td>\n",
       "    </tr>\n",
       "    <tr>\n",
       "      <th>Folk</th>\n",
       "      <td>15.43</td>\n",
       "      <td>1.07</td>\n",
       "      <td>9.30</td>\n",
       "      <td>1.66</td>\n",
       "      <td>2.82</td>\n",
       "      <td>14.63</td>\n",
       "      <td>0.69</td>\n",
       "      <td>1.36</td>\n",
       "      <td>0.0</td>\n",
       "    </tr>\n",
       "    <tr>\n",
       "      <th>Hip-Hop</th>\n",
       "      <td>0.47</td>\n",
       "      <td>3.25</td>\n",
       "      <td>1.23</td>\n",
       "      <td>0.66</td>\n",
       "      <td>4.17</td>\n",
       "      <td>3.40</td>\n",
       "      <td>13.14</td>\n",
       "      <td>19.00</td>\n",
       "      <td>0.0</td>\n",
       "    </tr>\n",
       "    <tr>\n",
       "      <th>Instrumental</th>\n",
       "      <td>10.79</td>\n",
       "      <td>3.19</td>\n",
       "      <td>8.22</td>\n",
       "      <td>2.65</td>\n",
       "      <td>1.90</td>\n",
       "      <td>7.73</td>\n",
       "      <td>1.94</td>\n",
       "      <td>1.57</td>\n",
       "      <td>0.0</td>\n",
       "    </tr>\n",
       "    <tr>\n",
       "      <th>International</th>\n",
       "      <td>4.94</td>\n",
       "      <td>0.73</td>\n",
       "      <td>6.82</td>\n",
       "      <td>0.00</td>\n",
       "      <td>2.11</td>\n",
       "      <td>2.24</td>\n",
       "      <td>1.36</td>\n",
       "      <td>3.97</td>\n",
       "      <td>0.0</td>\n",
       "    </tr>\n",
       "    <tr>\n",
       "      <th>Jazz</th>\n",
       "      <td>1.06</td>\n",
       "      <td>0.17</td>\n",
       "      <td>3.39</td>\n",
       "      <td>0.33</td>\n",
       "      <td>0.62</td>\n",
       "      <td>3.13</td>\n",
       "      <td>0.24</td>\n",
       "      <td>0.87</td>\n",
       "      <td>0.0</td>\n",
       "    </tr>\n",
       "    <tr>\n",
       "      <th>Old-Time / Historic</th>\n",
       "      <td>9.30</td>\n",
       "      <td>0.09</td>\n",
       "      <td>0.90</td>\n",
       "      <td>0.00</td>\n",
       "      <td>0.05</td>\n",
       "      <td>0.00</td>\n",
       "      <td>0.03</td>\n",
       "      <td>0.00</td>\n",
       "      <td>0.0</td>\n",
       "    </tr>\n",
       "    <tr>\n",
       "      <th>Pop</th>\n",
       "      <td>4.25</td>\n",
       "      <td>5.35</td>\n",
       "      <td>4.26</td>\n",
       "      <td>8.28</td>\n",
       "      <td>4.55</td>\n",
       "      <td>7.37</td>\n",
       "      <td>2.27</td>\n",
       "      <td>4.39</td>\n",
       "      <td>0.0</td>\n",
       "    </tr>\n",
       "    <tr>\n",
       "      <th>Rock</th>\n",
       "      <td>10.43</td>\n",
       "      <td>41.19</td>\n",
       "      <td>3.53</td>\n",
       "      <td>10.60</td>\n",
       "      <td>58.52</td>\n",
       "      <td>23.68</td>\n",
       "      <td>17.24</td>\n",
       "      <td>7.71</td>\n",
       "      <td>0.0</td>\n",
       "    </tr>\n",
       "    <tr>\n",
       "      <th>Soul-RnB</th>\n",
       "      <td>0.02</td>\n",
       "      <td>0.00</td>\n",
       "      <td>0.04</td>\n",
       "      <td>0.00</td>\n",
       "      <td>0.35</td>\n",
       "      <td>0.49</td>\n",
       "      <td>0.38</td>\n",
       "      <td>0.73</td>\n",
       "      <td>0.0</td>\n",
       "    </tr>\n",
       "    <tr>\n",
       "      <th>Spoken</th>\n",
       "      <td>0.47</td>\n",
       "      <td>0.21</td>\n",
       "      <td>0.65</td>\n",
       "      <td>0.00</td>\n",
       "      <td>0.46</td>\n",
       "      <td>0.57</td>\n",
       "      <td>0.22</td>\n",
       "      <td>2.82</td>\n",
       "      <td>0.0</td>\n",
       "    </tr>\n",
       "  </tbody>\n",
       "</table>\n",
       "</div>"
      ],
      "text/plain": [
       "col_0                   1      2      3      4   ...     6      8      9      10\n",
       "Genre                                            ...                            \n",
       "Blues                 0.27   0.00   0.36   0.00  ...   0.59   0.03   0.19    0.0\n",
       "Classical            10.67   0.04  16.23   0.00  ...   1.73   0.13   0.33    0.0\n",
       "Country               0.31   0.17   0.14   0.00  ...   0.82   0.11   0.20    0.0\n",
       "Easy Listening        0.05   0.00   0.07   0.33  ...   0.09   0.02   0.10    0.0\n",
       "Electronic            7.55  15.15  12.98  23.51  ...  16.09  40.66  33.63    0.0\n",
       "Experimental         23.99  29.40  31.88  51.99  ...  17.44  21.55  23.12  100.0\n",
       "Folk                 15.43   1.07   9.30   1.66  ...  14.63   0.69   1.36    0.0\n",
       "Hip-Hop               0.47   3.25   1.23   0.66  ...   3.40  13.14  19.00    0.0\n",
       "Instrumental         10.79   3.19   8.22   2.65  ...   7.73   1.94   1.57    0.0\n",
       "International         4.94   0.73   6.82   0.00  ...   2.24   1.36   3.97    0.0\n",
       "Jazz                  1.06   0.17   3.39   0.33  ...   3.13   0.24   0.87    0.0\n",
       "Old-Time / Historic   9.30   0.09   0.90   0.00  ...   0.00   0.03   0.00    0.0\n",
       "Pop                   4.25   5.35   4.26   8.28  ...   7.37   2.27   4.39    0.0\n",
       "Rock                 10.43  41.19   3.53  10.60  ...  23.68  17.24   7.71    0.0\n",
       "Soul-RnB              0.02   0.00   0.04   0.00  ...   0.49   0.38   0.73    0.0\n",
       "Spoken                0.47   0.21   0.65   0.00  ...   0.57   0.22   2.82    0.0\n",
       "\n",
       "[16 rows x 9 columns]"
      ]
     },
     "execution_count": 25,
     "metadata": {},
     "output_type": "execute_result"
    }
   ],
   "source": [
    "round(pd.crosstab(index=Identifiers2['Genre'], columns=label_10, normalize='columns')*100, 2)"
   ]
  },
  {
   "cell_type": "code",
   "execution_count": null,
   "id": "aa0fdfe0-256c-4b47-9a6f-83989de4f056",
   "metadata": {
    "id": "NMnrYWCpA2eO"
   },
   "outputs": [],
   "source": [
    "Identifiers2['#Clusters'] = label_10"
   ]
  },
  {
   "cell_type": "code",
   "execution_count": null,
   "id": "cb0dcc80-71db-4503-a845-a79998fde07a",
   "metadata": {
    "colab": {
     "base_uri": "https://localhost:8080/",
     "height": 869
    },
    "id": "AppSAcV1Arrj",
    "outputId": "6b256896-c5c8-44ab-b048-44858d171158"
   },
   "outputs": [
    {
     "data": {
      "image/png": "[encoded data removed]",
      "text/plain": [
       "<Figure size 1080x1080 with 16 Axes>"
      ]
     },
     "metadata": {
      "needs_background": "light"
     },
     "output_type": "display_data"
    }
   ],
   "source": [
    "Identifiers2.hist(column='#Clusters', by = 'Genre', figsize=(15,15))\n",
    "plt.show()"
   ]
  },
  {
   "cell_type": "markdown",
   "id": "cb08910a-190e-4368-a732-b387e9599b0c",
   "metadata": {
    "id": "SZGLxgRDanor"
   },
   "source": [
    "With this implementation and change of variables, our clustering has not succeeded"
   ]
  },
  {
   "cell_type": "markdown",
   "id": "ad52d7f1-6096-4a49-b407-b8036a2aa675",
   "metadata": {
    "id": "ok6J1ZjMjAlc",
    "tags": []
   },
   "source": [
    "# 3. Algorithmic questions\n",
    "\n",
    "\n",
    "You are given a list of integers, A, and another integer s. Write an algorithm that outputs all the pairs in A that equal x.\n",
    "\n",
    "For example, if:\n",
    "\n",
    "    A = [7, -2, 8, 2, 6, 4, -7, 2, 1, 3, -3] and s = 4\n",
    "the algorithm should output:  ```(7, -3), (-2, 6), (2, 2), (3, 1).```\n"
   ]
  },
  {
   "cell_type": "code",
   "execution_count": 50,
   "id": "753650c7-4f87-4ef9-977d-2e9c38bd95e0",
   "metadata": {},
   "outputs": [
    {
     "data": {
      "text/plain": [
       "[(-2, 6), (1, 3), (2, 2), (-3, 7)]"
      ]
     },
     "execution_count": 50,
     "metadata": {},
     "output_type": "execute_result"
    }
   ],
   "source": [
    "def checkSum(A, s):\n",
    "    pair = []\n",
    "    for el in A:\n",
    "        x = s - el # for every element we find the value that gives as back the requested sum\n",
    "        if (x in A) == True: # we check if the value is in the list if yes, append the pair\n",
    "            pair.append((el, x)) \n",
    "\n",
    "    return list(set(tuple(sorted(t)) for t in pair)) # we order the values inside the tuples so by using the set we will drop duplicates\n",
    "             \n",
    "A, s = [7, -2, 8, 2, 6, 4, -7, 2, 1, 3, -3], 4  \n",
    "checkSum(A, s)                              "
   ]
  }
 ],
 "metadata": {
  "kernelspec": {
   "display_name": "hw2Aris",
   "language": "python",
   "name": "hw2aris"
  },
  "language_info": {
   "codemirror_mode": {
    "name": "ipython",
    "version": 3
   },
   "file_extension": ".py",
   "mimetype": "text/x-python",
   "name": "python",
   "nbconvert_exporter": "python",
   "pygments_lexer": "ipython3",
   "version": "3.9.9"
  }
 },
 "nbformat": 4,
 "nbformat_minor": 5
}
